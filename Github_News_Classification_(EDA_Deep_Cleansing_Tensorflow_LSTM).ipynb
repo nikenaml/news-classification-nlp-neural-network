{
  "nbformat": 4,
  "nbformat_minor": 0,
  "metadata": {
    "colab": {
      "name": "Github_News Classification (EDA-Deep Cleansing-Tensorflow_LSTM)",
      "provenance": [],
      "collapsed_sections": [],
      "include_colab_link": true
    },
    "kernelspec": {
      "name": "python3",
      "display_name": "Python 3"
    },
    "language_info": {
      "name": "python"
    },
    "accelerator": "TPU"
  },
  "cells": [
    {
      "cell_type": "markdown",
      "metadata": {
        "id": "view-in-github",
        "colab_type": "text"
      },
      "source": [
        "<a href=\"https://colab.research.google.com/github/nikenaml/news-classification-nlp-neural-network/blob/master/Github_News_Classification_(EDA_Deep_Cleansing_Tensorflow_LSTM).ipynb\" target=\"_parent\"><img src=\"https://colab.research.google.com/assets/colab-badge.svg\" alt=\"Open In Colab\"/></a>"
      ]
    },
    {
      "cell_type": "markdown",
      "metadata": {
        "id": "9jEe3eTDF6zH"
      },
      "source": [
        "    Nama     : Niken Amelia\n",
        "    Email    : niken.aml99@gmail.com\n",
        "    No. HP   : 085311321124\n",
        "    LinkedIn : https://www.linkedin.com/in/nikenamelia/\n",
        "    Github   : https://github.com/nikenaml"
      ]
    },
    {
      "cell_type": "markdown",
      "metadata": {
        "id": "QhnAJ4D2YUbq"
      },
      "source": [
        "# AG News Classification Dataset\n",
        "\n",
        "### Description\n",
        "The AG's news topic classification dataset is constructed by choosing 4 largest classes from the original corpus. \n",
        "\n",
        "Consists of class ids 1-4 where \n",
        "- 1-World\n",
        "- 2-Sports \n",
        "- 3-Business \n",
        "- 4-Sci/Tech\n",
        "\n",
        "https://www.kaggle.com/amananandrai/ag-news-classification-dataset"
      ]
    },
    {
      "cell_type": "markdown",
      "metadata": {
        "id": "AzfIM8sfZRz9"
      },
      "source": [
        "## Download dataset from Kaggle"
      ]
    },
    {
      "cell_type": "code",
      "metadata": {
        "id": "uMuLJ9v__lp1"
      },
      "source": [
        "# install kaggle package\n",
        "!pip install -q kaggle"
      ],
      "execution_count": null,
      "outputs": []
    },
    {
      "cell_type": "code",
      "metadata": {
        "colab": {
          "resources": {
            "http://localhost:8080/nbextensions/google.colab/files.js": {
              "data": "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",
              "ok": true,
              "headers": [
                [
                  "content-type",
                  "application/javascript"
                ]
              ],
              "status": 200,
              "status_text": ""
            }
          },
          "base_uri": "https://localhost:8080/",
          "height": 91
        },
        "id": "C6_x64XGZQBp",
        "outputId": "04a0c3d0-be20-470d-b526-773e087d5e1f"
      },
      "source": [
        "# upload kaggle.json\n",
        "from google.colab import files\n",
        "files.upload()"
      ],
      "execution_count": null,
      "outputs": [
        {
          "output_type": "display_data",
          "data": {
            "text/html": [
              "\n",
              "     <input type=\"file\" id=\"files-4321d5f2-6bb9-4b5d-b503-455c88edba8b\" name=\"files[]\" multiple disabled\n",
              "        style=\"border:none\" />\n",
              "     <output id=\"result-4321d5f2-6bb9-4b5d-b503-455c88edba8b\">\n",
              "      Upload widget is only available when the cell has been executed in the\n",
              "      current browser session. Please rerun this cell to enable.\n",
              "      </output>\n",
              "      <script src=\"/nbextensions/google.colab/files.js\"></script> "
            ],
            "text/plain": [
              "<IPython.core.display.HTML object>"
            ]
          },
          "metadata": {
            "tags": []
          }
        },
        {
          "output_type": "stream",
          "text": [
            "Saving kaggle.json to kaggle.json\n"
          ],
          "name": "stdout"
        },
        {
          "output_type": "execute_result",
          "data": {
            "text/plain": [
              "{'kaggle.json': b'{\"username\":\"nikenamelia\",\"key\":\"d81f627b9699f95aa938e378544c3488\"}'}"
            ]
          },
          "metadata": {
            "tags": []
          },
          "execution_count": 2
        }
      ]
    },
    {
      "cell_type": "code",
      "metadata": {
        "id": "_kGwVBThZZHh"
      },
      "source": [
        "# create a kaggle folder\n",
        "! mkdir ~/.kaggle\n",
        "\n",
        "# copy the kaggle.json to folder created\n",
        "! cp kaggle.json ~/.kaggle/\n",
        "\n",
        "# permission for the json to act\n",
        "! chmod 600 ~/.kaggle/kaggle.json"
      ],
      "execution_count": null,
      "outputs": []
    },
    {
      "cell_type": "code",
      "metadata": {
        "colab": {
          "base_uri": "https://localhost:8080/"
        },
        "id": "Uv-IHsSxZe3X",
        "outputId": "67788392-d9bb-4200-f3a0-05c48592c4e7"
      },
      "source": [
        "# download dataset, choose 'copy api command' from kaggle dataset\n",
        "!kaggle datasets download -d amananandrai/ag-news-classification-dataset"
      ],
      "execution_count": null,
      "outputs": [
        {
          "output_type": "stream",
          "text": [
            "Downloading ag-news-classification-dataset.zip to /content\n",
            " 44% 5.00M/11.4M [00:00<00:00, 44.4MB/s]\n",
            "100% 11.4M/11.4M [00:00<00:00, 55.7MB/s]\n"
          ],
          "name": "stdout"
        }
      ]
    },
    {
      "cell_type": "code",
      "metadata": {
        "colab": {
          "base_uri": "https://localhost:8080/"
        },
        "id": "i5SE25XedCJ7",
        "outputId": "b72bb2ca-ea2b-424e-d52c-9081f7a7b8f4"
      },
      "source": [
        "#unzip\n",
        "!mkdir dataset\n",
        "!unzip ag-news-classification-dataset.zip -d dataset\n",
        "!ls dataset"
      ],
      "execution_count": null,
      "outputs": [
        {
          "output_type": "stream",
          "text": [
            "Archive:  ag-news-classification-dataset.zip\n",
            "  inflating: dataset/test.csv        \n",
            "  inflating: dataset/train.csv       \n",
            "test.csv  train.csv\n"
          ],
          "name": "stdout"
        }
      ]
    },
    {
      "cell_type": "code",
      "metadata": {
        "id": "EFGNLaDOS0OJ"
      },
      "source": [
        "# join data\n",
        "\n",
        "from glob import glob\n",
        "\n",
        "filename = 'dataset_news.csv'\n",
        "\n",
        "with open(filename, 'a') as singleFile:\n",
        "    first_csv = True\n",
        "    for csv in glob('./dataset/*.csv'):\n",
        "        if csv == filename:\n",
        "            pass\n",
        "        else:\n",
        "            header = True\n",
        "            for line in open(csv, 'r'):\n",
        "                if first_csv and header:\n",
        "                    singleFile.write(line)\n",
        "                    first_csv = False\n",
        "                    header = False\n",
        "                elif header:\n",
        "                    header = False\n",
        "                else:\n",
        "                    singleFile.write(line)\n",
        "    singleFile.close()"
      ],
      "execution_count": null,
      "outputs": []
    },
    {
      "cell_type": "markdown",
      "metadata": {
        "id": "NPRzo7B-i_OX"
      },
      "source": [
        "### Import Packages"
      ]
    },
    {
      "cell_type": "code",
      "metadata": {
        "colab": {
          "base_uri": "https://localhost:8080/"
        },
        "id": "qOz4UzvYjBd-",
        "outputId": "319aa27d-6b1c-427e-ecce-3c60ad2bf0af"
      },
      "source": [
        "import numpy as np\n",
        "import pandas as pd\n",
        "import re\n",
        "import string\n",
        "\n",
        "pd.set_option('display.max_columns', None)\n",
        "pd.set_option('display.max_colwidth', -1)\n",
        "pd.set_option('display.max_rows', 2000)"
      ],
      "execution_count": null,
      "outputs": [
        {
          "output_type": "stream",
          "text": [
            "/usr/local/lib/python3.7/dist-packages/ipykernel_launcher.py:7: FutureWarning: Passing a negative integer is deprecated in version 1.0 and will not be supported in future version. Instead, use None to not limit the column width.\n",
            "  import sys\n"
          ],
          "name": "stderr"
        }
      ]
    },
    {
      "cell_type": "markdown",
      "metadata": {
        "id": "ROz1d2dLicKr"
      },
      "source": [
        "### Load Data"
      ]
    },
    {
      "cell_type": "code",
      "metadata": {
        "colab": {
          "base_uri": "https://localhost:8080/",
          "height": 290
        },
        "id": "JX05v_nciZwN",
        "outputId": "957de896-9144-40c3-e72b-dc86740377aa"
      },
      "source": [
        "data = pd.read_csv(\"dataset_news.csv\")\n",
        "data.head()"
      ],
      "execution_count": null,
      "outputs": [
        {
          "output_type": "execute_result",
          "data": {
            "text/html": [
              "<div>\n",
              "<style scoped>\n",
              "    .dataframe tbody tr th:only-of-type {\n",
              "        vertical-align: middle;\n",
              "    }\n",
              "\n",
              "    .dataframe tbody tr th {\n",
              "        vertical-align: top;\n",
              "    }\n",
              "\n",
              "    .dataframe thead th {\n",
              "        text-align: right;\n",
              "    }\n",
              "</style>\n",
              "<table border=\"1\" class=\"dataframe\">\n",
              "  <thead>\n",
              "    <tr style=\"text-align: right;\">\n",
              "      <th></th>\n",
              "      <th>Class Index</th>\n",
              "      <th>Title</th>\n",
              "      <th>Description</th>\n",
              "    </tr>\n",
              "  </thead>\n",
              "  <tbody>\n",
              "    <tr>\n",
              "      <th>0</th>\n",
              "      <td>3</td>\n",
              "      <td>Wall St. Bears Claw Back Into the Black (Reuters)</td>\n",
              "      <td>Reuters - Short-sellers, Wall Street's dwindling\\band of ultra-cynics, are seeing green again.</td>\n",
              "    </tr>\n",
              "    <tr>\n",
              "      <th>1</th>\n",
              "      <td>3</td>\n",
              "      <td>Carlyle Looks Toward Commercial Aerospace (Reuters)</td>\n",
              "      <td>Reuters - Private investment firm Carlyle Group,\\which has a reputation for making well-timed and occasionally\\controversial plays in the defense industry, has quietly placed\\its bets on another part of the market.</td>\n",
              "    </tr>\n",
              "    <tr>\n",
              "      <th>2</th>\n",
              "      <td>3</td>\n",
              "      <td>Oil and Economy Cloud Stocks' Outlook (Reuters)</td>\n",
              "      <td>Reuters - Soaring crude prices plus worries\\about the economy and the outlook for earnings are expected to\\hang over the stock market next week during the depth of the\\summer doldrums.</td>\n",
              "    </tr>\n",
              "    <tr>\n",
              "      <th>3</th>\n",
              "      <td>3</td>\n",
              "      <td>Iraq Halts Oil Exports from Main Southern Pipeline (Reuters)</td>\n",
              "      <td>Reuters - Authorities have halted oil export\\flows from the main pipeline in southern Iraq after\\intelligence showed a rebel militia could strike\\infrastructure, an oil official said on Saturday.</td>\n",
              "    </tr>\n",
              "    <tr>\n",
              "      <th>4</th>\n",
              "      <td>3</td>\n",
              "      <td>Oil prices soar to all-time record, posing new menace to US economy (AFP)</td>\n",
              "      <td>AFP - Tearaway world oil prices, toppling records and straining wallets, present a new economic menace barely three months before the US presidential elections.</td>\n",
              "    </tr>\n",
              "  </tbody>\n",
              "</table>\n",
              "</div>"
            ],
            "text/plain": [
              "   Class Index  \\\n",
              "0  3             \n",
              "1  3             \n",
              "2  3             \n",
              "3  3             \n",
              "4  3             \n",
              "\n",
              "                                                                       Title  \\\n",
              "0  Wall St. Bears Claw Back Into the Black (Reuters)                           \n",
              "1  Carlyle Looks Toward Commercial Aerospace (Reuters)                         \n",
              "2  Oil and Economy Cloud Stocks' Outlook (Reuters)                             \n",
              "3  Iraq Halts Oil Exports from Main Southern Pipeline (Reuters)                \n",
              "4  Oil prices soar to all-time record, posing new menace to US economy (AFP)   \n",
              "\n",
              "                                                                                                                                                                                                              Description  \n",
              "0  Reuters - Short-sellers, Wall Street's dwindling\\band of ultra-cynics, are seeing green again.                                                                                                                          \n",
              "1  Reuters - Private investment firm Carlyle Group,\\which has a reputation for making well-timed and occasionally\\controversial plays in the defense industry, has quietly placed\\its bets on another part of the market.  \n",
              "2  Reuters - Soaring crude prices plus worries\\about the economy and the outlook for earnings are expected to\\hang over the stock market next week during the depth of the\\summer doldrums.                                \n",
              "3  Reuters - Authorities have halted oil export\\flows from the main pipeline in southern Iraq after\\intelligence showed a rebel militia could strike\\infrastructure, an oil official said on Saturday.                     \n",
              "4  AFP - Tearaway world oil prices, toppling records and straining wallets, present a new economic menace barely three months before the US presidential elections.                                                        "
            ]
          },
          "metadata": {
            "tags": []
          },
          "execution_count": 8
        }
      ]
    },
    {
      "cell_type": "markdown",
      "metadata": {
        "id": "UH49yA1cSk13"
      },
      "source": [
        "## Data Understanding"
      ]
    },
    {
      "cell_type": "markdown",
      "metadata": {
        "id": "AOeqaL3kq996"
      },
      "source": [
        "### EDA"
      ]
    },
    {
      "cell_type": "code",
      "metadata": {
        "colab": {
          "base_uri": "https://localhost:8080/"
        },
        "id": "3KU8NsZ5i3j5",
        "outputId": "bfd3b5b2-fb7a-4fbe-a891-62ebca90dfe8"
      },
      "source": [
        "# total data\n",
        "data.shape"
      ],
      "execution_count": null,
      "outputs": [
        {
          "output_type": "execute_result",
          "data": {
            "text/plain": [
              "(127600, 3)"
            ]
          },
          "metadata": {
            "tags": []
          },
          "execution_count": 9
        }
      ]
    },
    {
      "cell_type": "code",
      "metadata": {
        "colab": {
          "base_uri": "https://localhost:8080/"
        },
        "id": "b_iHL5ItjFNi",
        "outputId": "7d2f74cc-ca21-44d5-9f0e-ce32f08303df"
      },
      "source": [
        "# data info\n",
        "data.info()"
      ],
      "execution_count": null,
      "outputs": [
        {
          "output_type": "stream",
          "text": [
            "<class 'pandas.core.frame.DataFrame'>\n",
            "RangeIndex: 127600 entries, 0 to 127599\n",
            "Data columns (total 3 columns):\n",
            " #   Column       Non-Null Count   Dtype \n",
            "---  ------       --------------   ----- \n",
            " 0   Class Index  127600 non-null  int64 \n",
            " 1   Title        127600 non-null  object\n",
            " 2   Description  127600 non-null  object\n",
            "dtypes: int64(1), object(2)\n",
            "memory usage: 2.9+ MB\n"
          ],
          "name": "stdout"
        }
      ]
    },
    {
      "cell_type": "code",
      "metadata": {
        "colab": {
          "base_uri": "https://localhost:8080/"
        },
        "id": "Wr_m1EUqBUJ9",
        "outputId": "7f244b19-e6ce-44a5-be20-ed67b8abe3e7"
      },
      "source": [
        "# categories\n",
        "data['Class Index'].value_counts()"
      ],
      "execution_count": null,
      "outputs": [
        {
          "output_type": "execute_result",
          "data": {
            "text/plain": [
              "4    31900\n",
              "3    31900\n",
              "2    31900\n",
              "1    31900\n",
              "Name: Class Index, dtype: int64"
            ]
          },
          "metadata": {
            "tags": []
          },
          "execution_count": 11
        }
      ]
    },
    {
      "cell_type": "markdown",
      "metadata": {
        "id": "VZ63tzwcqDH5"
      },
      "source": [
        "## Data Preparation\n",
        "\n"
      ]
    },
    {
      "cell_type": "code",
      "metadata": {
        "colab": {
          "base_uri": "https://localhost:8080/",
          "height": 375
        },
        "id": "X2Ro8AuzrCMH",
        "outputId": "e4959d75-fa5d-4398-affc-157d1bd86299"
      },
      "source": [
        "# join columns\n",
        "data['news'] = data['Title'] + ' ' + data['Description']\n",
        "\n",
        "# rename columns\n",
        "data = data.rename(columns = {'Class Index': 'category'}, inplace = False)\n",
        "data.head()"
      ],
      "execution_count": null,
      "outputs": [
        {
          "output_type": "execute_result",
          "data": {
            "text/html": [
              "<div>\n",
              "<style scoped>\n",
              "    .dataframe tbody tr th:only-of-type {\n",
              "        vertical-align: middle;\n",
              "    }\n",
              "\n",
              "    .dataframe tbody tr th {\n",
              "        vertical-align: top;\n",
              "    }\n",
              "\n",
              "    .dataframe thead th {\n",
              "        text-align: right;\n",
              "    }\n",
              "</style>\n",
              "<table border=\"1\" class=\"dataframe\">\n",
              "  <thead>\n",
              "    <tr style=\"text-align: right;\">\n",
              "      <th></th>\n",
              "      <th>category</th>\n",
              "      <th>Title</th>\n",
              "      <th>Description</th>\n",
              "      <th>news</th>\n",
              "    </tr>\n",
              "  </thead>\n",
              "  <tbody>\n",
              "    <tr>\n",
              "      <th>0</th>\n",
              "      <td>3</td>\n",
              "      <td>Wall St. Bears Claw Back Into the Black (Reuters)</td>\n",
              "      <td>Reuters - Short-sellers, Wall Street's dwindling\\band of ultra-cynics, are seeing green again.</td>\n",
              "      <td>Wall St. Bears Claw Back Into the Black (Reuters) Reuters - Short-sellers, Wall Street's dwindling\\band of ultra-cynics, are seeing green again.</td>\n",
              "    </tr>\n",
              "    <tr>\n",
              "      <th>1</th>\n",
              "      <td>3</td>\n",
              "      <td>Carlyle Looks Toward Commercial Aerospace (Reuters)</td>\n",
              "      <td>Reuters - Private investment firm Carlyle Group,\\which has a reputation for making well-timed and occasionally\\controversial plays in the defense industry, has quietly placed\\its bets on another part of the market.</td>\n",
              "      <td>Carlyle Looks Toward Commercial Aerospace (Reuters) Reuters - Private investment firm Carlyle Group,\\which has a reputation for making well-timed and occasionally\\controversial plays in the defense industry, has quietly placed\\its bets on another part of the market.</td>\n",
              "    </tr>\n",
              "    <tr>\n",
              "      <th>2</th>\n",
              "      <td>3</td>\n",
              "      <td>Oil and Economy Cloud Stocks' Outlook (Reuters)</td>\n",
              "      <td>Reuters - Soaring crude prices plus worries\\about the economy and the outlook for earnings are expected to\\hang over the stock market next week during the depth of the\\summer doldrums.</td>\n",
              "      <td>Oil and Economy Cloud Stocks' Outlook (Reuters) Reuters - Soaring crude prices plus worries\\about the economy and the outlook for earnings are expected to\\hang over the stock market next week during the depth of the\\summer doldrums.</td>\n",
              "    </tr>\n",
              "    <tr>\n",
              "      <th>3</th>\n",
              "      <td>3</td>\n",
              "      <td>Iraq Halts Oil Exports from Main Southern Pipeline (Reuters)</td>\n",
              "      <td>Reuters - Authorities have halted oil export\\flows from the main pipeline in southern Iraq after\\intelligence showed a rebel militia could strike\\infrastructure, an oil official said on Saturday.</td>\n",
              "      <td>Iraq Halts Oil Exports from Main Southern Pipeline (Reuters) Reuters - Authorities have halted oil export\\flows from the main pipeline in southern Iraq after\\intelligence showed a rebel militia could strike\\infrastructure, an oil official said on Saturday.</td>\n",
              "    </tr>\n",
              "    <tr>\n",
              "      <th>4</th>\n",
              "      <td>3</td>\n",
              "      <td>Oil prices soar to all-time record, posing new menace to US economy (AFP)</td>\n",
              "      <td>AFP - Tearaway world oil prices, toppling records and straining wallets, present a new economic menace barely three months before the US presidential elections.</td>\n",
              "      <td>Oil prices soar to all-time record, posing new menace to US economy (AFP) AFP - Tearaway world oil prices, toppling records and straining wallets, present a new economic menace barely three months before the US presidential elections.</td>\n",
              "    </tr>\n",
              "  </tbody>\n",
              "</table>\n",
              "</div>"
            ],
            "text/plain": [
              "   category  \\\n",
              "0  3          \n",
              "1  3          \n",
              "2  3          \n",
              "3  3          \n",
              "4  3          \n",
              "\n",
              "                                                                       Title  \\\n",
              "0  Wall St. Bears Claw Back Into the Black (Reuters)                           \n",
              "1  Carlyle Looks Toward Commercial Aerospace (Reuters)                         \n",
              "2  Oil and Economy Cloud Stocks' Outlook (Reuters)                             \n",
              "3  Iraq Halts Oil Exports from Main Southern Pipeline (Reuters)                \n",
              "4  Oil prices soar to all-time record, posing new menace to US economy (AFP)   \n",
              "\n",
              "                                                                                                                                                                                                              Description  \\\n",
              "0  Reuters - Short-sellers, Wall Street's dwindling\\band of ultra-cynics, are seeing green again.                                                                                                                           \n",
              "1  Reuters - Private investment firm Carlyle Group,\\which has a reputation for making well-timed and occasionally\\controversial plays in the defense industry, has quietly placed\\its bets on another part of the market.   \n",
              "2  Reuters - Soaring crude prices plus worries\\about the economy and the outlook for earnings are expected to\\hang over the stock market next week during the depth of the\\summer doldrums.                                 \n",
              "3  Reuters - Authorities have halted oil export\\flows from the main pipeline in southern Iraq after\\intelligence showed a rebel militia could strike\\infrastructure, an oil official said on Saturday.                      \n",
              "4  AFP - Tearaway world oil prices, toppling records and straining wallets, present a new economic menace barely three months before the US presidential elections.                                                         \n",
              "\n",
              "                                                                                                                                                                                                                                                                         news  \n",
              "0  Wall St. Bears Claw Back Into the Black (Reuters) Reuters - Short-sellers, Wall Street's dwindling\\band of ultra-cynics, are seeing green again.                                                                                                                            \n",
              "1  Carlyle Looks Toward Commercial Aerospace (Reuters) Reuters - Private investment firm Carlyle Group,\\which has a reputation for making well-timed and occasionally\\controversial plays in the defense industry, has quietly placed\\its bets on another part of the market.  \n",
              "2  Oil and Economy Cloud Stocks' Outlook (Reuters) Reuters - Soaring crude prices plus worries\\about the economy and the outlook for earnings are expected to\\hang over the stock market next week during the depth of the\\summer doldrums.                                    \n",
              "3  Iraq Halts Oil Exports from Main Southern Pipeline (Reuters) Reuters - Authorities have halted oil export\\flows from the main pipeline in southern Iraq after\\intelligence showed a rebel militia could strike\\infrastructure, an oil official said on Saturday.            \n",
              "4  Oil prices soar to all-time record, posing new menace to US economy (AFP) AFP - Tearaway world oil prices, toppling records and straining wallets, present a new economic menace barely three months before the US presidential elections.                                  "
            ]
          },
          "metadata": {
            "tags": []
          },
          "execution_count": 12
        }
      ]
    },
    {
      "cell_type": "code",
      "metadata": {
        "colab": {
          "base_uri": "https://localhost:8080/",
          "height": 272
        },
        "id": "b7_lBzJYV_co",
        "outputId": "39284be8-9a99-4e45-aa9b-f7db83d48baf"
      },
      "source": [
        "# delete columns (unused column)\n",
        "data = data.drop(data.columns[[1, 2]], axis=1)\n",
        "data.head()"
      ],
      "execution_count": null,
      "outputs": [
        {
          "output_type": "execute_result",
          "data": {
            "text/html": [
              "<div>\n",
              "<style scoped>\n",
              "    .dataframe tbody tr th:only-of-type {\n",
              "        vertical-align: middle;\n",
              "    }\n",
              "\n",
              "    .dataframe tbody tr th {\n",
              "        vertical-align: top;\n",
              "    }\n",
              "\n",
              "    .dataframe thead th {\n",
              "        text-align: right;\n",
              "    }\n",
              "</style>\n",
              "<table border=\"1\" class=\"dataframe\">\n",
              "  <thead>\n",
              "    <tr style=\"text-align: right;\">\n",
              "      <th></th>\n",
              "      <th>category</th>\n",
              "      <th>news</th>\n",
              "    </tr>\n",
              "  </thead>\n",
              "  <tbody>\n",
              "    <tr>\n",
              "      <th>0</th>\n",
              "      <td>3</td>\n",
              "      <td>Wall St. Bears Claw Back Into the Black (Reuters) Reuters - Short-sellers, Wall Street's dwindling\\band of ultra-cynics, are seeing green again.</td>\n",
              "    </tr>\n",
              "    <tr>\n",
              "      <th>1</th>\n",
              "      <td>3</td>\n",
              "      <td>Carlyle Looks Toward Commercial Aerospace (Reuters) Reuters - Private investment firm Carlyle Group,\\which has a reputation for making well-timed and occasionally\\controversial plays in the defense industry, has quietly placed\\its bets on another part of the market.</td>\n",
              "    </tr>\n",
              "    <tr>\n",
              "      <th>2</th>\n",
              "      <td>3</td>\n",
              "      <td>Oil and Economy Cloud Stocks' Outlook (Reuters) Reuters - Soaring crude prices plus worries\\about the economy and the outlook for earnings are expected to\\hang over the stock market next week during the depth of the\\summer doldrums.</td>\n",
              "    </tr>\n",
              "    <tr>\n",
              "      <th>3</th>\n",
              "      <td>3</td>\n",
              "      <td>Iraq Halts Oil Exports from Main Southern Pipeline (Reuters) Reuters - Authorities have halted oil export\\flows from the main pipeline in southern Iraq after\\intelligence showed a rebel militia could strike\\infrastructure, an oil official said on Saturday.</td>\n",
              "    </tr>\n",
              "    <tr>\n",
              "      <th>4</th>\n",
              "      <td>3</td>\n",
              "      <td>Oil prices soar to all-time record, posing new menace to US economy (AFP) AFP - Tearaway world oil prices, toppling records and straining wallets, present a new economic menace barely three months before the US presidential elections.</td>\n",
              "    </tr>\n",
              "  </tbody>\n",
              "</table>\n",
              "</div>"
            ],
            "text/plain": [
              "   category  \\\n",
              "0  3          \n",
              "1  3          \n",
              "2  3          \n",
              "3  3          \n",
              "4  3          \n",
              "\n",
              "                                                                                                                                                                                                                                                                         news  \n",
              "0  Wall St. Bears Claw Back Into the Black (Reuters) Reuters - Short-sellers, Wall Street's dwindling\\band of ultra-cynics, are seeing green again.                                                                                                                            \n",
              "1  Carlyle Looks Toward Commercial Aerospace (Reuters) Reuters - Private investment firm Carlyle Group,\\which has a reputation for making well-timed and occasionally\\controversial plays in the defense industry, has quietly placed\\its bets on another part of the market.  \n",
              "2  Oil and Economy Cloud Stocks' Outlook (Reuters) Reuters - Soaring crude prices plus worries\\about the economy and the outlook for earnings are expected to\\hang over the stock market next week during the depth of the\\summer doldrums.                                    \n",
              "3  Iraq Halts Oil Exports from Main Southern Pipeline (Reuters) Reuters - Authorities have halted oil export\\flows from the main pipeline in southern Iraq after\\intelligence showed a rebel militia could strike\\infrastructure, an oil official said on Saturday.            \n",
              "4  Oil prices soar to all-time record, posing new menace to US economy (AFP) AFP - Tearaway world oil prices, toppling records and straining wallets, present a new economic menace barely three months before the US presidential elections.                                  "
            ]
          },
          "metadata": {
            "tags": []
          },
          "execution_count": 13
        }
      ]
    },
    {
      "cell_type": "code",
      "metadata": {
        "colab": {
          "base_uri": "https://localhost:8080/",
          "height": 335
        },
        "id": "fzeNVW_288W1",
        "outputId": "df612def-6eb6-43de-d7d3-5afe649c1550"
      },
      "source": [
        "import seaborn as sns\n",
        "import matplotlib.pyplot as plt\n",
        "\n",
        "# define labels\n",
        "labels = ['World News', 'Sports News', 'Business News', 'Sci/Tech News']\n",
        "\n",
        "ax = sns.countplot(data.category)\n",
        "plt.xlabel('category news')\n",
        "ax.set_xticklabels(labels);"
      ],
      "execution_count": null,
      "outputs": [
        {
          "output_type": "stream",
          "text": [
            "/usr/local/lib/python3.7/dist-packages/seaborn/_decorators.py:43: FutureWarning: Pass the following variable as a keyword arg: x. From version 0.12, the only valid positional argument will be `data`, and passing other arguments without an explicit keyword will result in an error or misinterpretation.\n",
            "  FutureWarning\n"
          ],
          "name": "stderr"
        },
        {
          "output_type": "display_data",
          "data": {
            "image/png": "[encoded data removed]",
            "text/plain": [
              "<Figure size 432x288 with 1 Axes>"
            ]
          },
          "metadata": {
            "tags": [],
            "needs_background": "light"
          }
        }
      ]
    },
    {
      "cell_type": "markdown",
      "metadata": {
        "id": "y0UNrUvHg1Dl"
      },
      "source": [
        "## Data Cleaning"
      ]
    },
    {
      "cell_type": "code",
      "metadata": {
        "id": "iZc--muJAMzB"
      },
      "source": [
        "# removing punctuation down character\n",
        "def removePunctuationDown(strs):\n",
        "    remove = '!#$%&\\()+,-./:;<=>?@[\\\\]_{|}~'\n",
        "    pattern = r\"[{}]\".format(remove)\n",
        "    h = re.sub(pattern, \" \", strs)\n",
        "    return h\n",
        "\n",
        "# removing punctuation up character\n",
        "def removePunctuationUp(strs):\n",
        "    remove = ',\"\\^`*'\n",
        "    # remove = ',\"\\'^`*'\n",
        "    pattern = r\"[{}]\".format(remove)\n",
        "    h = re.sub(pattern, \"\", strs)\n",
        "    return h\n",
        "\n",
        "# replace other special character\n",
        "def replace(strs):\n",
        "    strs = strs.replace('\\\\t',' ').replace('\\\\n',' ').replace('\\\\u',' ').replace('\\\\',' ')\n",
        "    strs = strs.replace('\\n',' ')\n",
        "    strs = strs.replace('\\t','')\n",
        "    strs = strs.encode('utf-8').decode('ascii', 'ignore')\n",
        "    return strs\n",
        "\n",
        "# remove emoji\n",
        "def remove_emoji(text):\n",
        "    emoji_pattern = re.compile(\"[\"\n",
        "                           u\"\\U0001F600-\\U0001F64F\"  # emoticons\n",
        "                           u\"\\U0001F300-\\U0001F5FF\"  # symbols & pictographs\n",
        "                           u\"\\U0001F680-\\U0001F6FF\"  # transport & map symbols\n",
        "                           u\"\\U0001F1E0-\\U0001F1FF\"  # flags (iOS)\n",
        "                           u\"\\U00002500-\\U00002BEF\"  # chinese char\n",
        "                           u\"\\U00002702-\\U000027B0\"\n",
        "                           u\"\\U00002702-\\U000027B0\"\n",
        "                           u\"\\U000024C2-\\U0001F251\"\n",
        "                           u\"\\U0001f926-\\U0001f937\"\n",
        "                           u\"\\U00010000-\\U0010ffff\"\n",
        "                           u\"\\u2640-\\u2642\"\n",
        "                           u\"\\u2600-\\u2B55\"\n",
        "                           u\"\\u200d\"\n",
        "                           u\"\\u23cf\"\n",
        "                           u\"\\u23e9\"\n",
        "                           u\"\\u231a\"\n",
        "                           u\"\\ufe0f\"  # dingbats\n",
        "                           u\"\\u3030\"\n",
        "                               #convert data input to Unicode\n",
        "                           \"]+\", flags=re.UNICODE)\n",
        "    return emoji_pattern.sub(r'', text)"
      ],
      "execution_count": null,
      "outputs": []
    },
    {
      "cell_type": "code",
      "metadata": {
        "id": "fzcnsp-4DILi"
      },
      "source": [
        "# Apply Cleaning Data\n",
        "data['news'] = [i.lower() for i in data.news] #lower case\n",
        "data['remove_emoji'] = data['news'].apply(remove_emoji) #remov emoji\n",
        "data['hastags'] = [re.findall(r'\\B#\\w*[a-zA-Z0-9]+\\w*', i) for i in data.remove_emoji] #save hastags\n",
        "data['remove_email'] = [re.sub(r'\\S*@\\S*\\s?','',i) for i in data.remove_emoji] #remove email\n",
        "data['remove_hashtag'] = [re.sub(\"#[A-Za-z0-9_]+\",'',i) for i in data.remove_emoji] #remove hastags\n",
        "data['remove_special_character'] = data['remove_hashtag'].replace(r'http\\s+|www.\\s+','',regex=True).replace(r'http\\S+', '', regex=True).replace(r'www\\S+', '', regex=True) #remove link\n",
        "data['remove_special_character'] = [re.sub(r'&lt;/?[a-z]+&gt;','',i) for i in data.remove_special_character] #remove_special_character\n",
        "data['remove_special_character'] = [re.sub('<.*?>+', '', i) for i in data.remove_special_character] #remove special character\n",
        "data['text_clean'] = [removePunctuationDown(i) for i in data.remove_special_character] #remove punc down\n",
        "data['text_clean'] = [removePunctuationUp(i) for i in data.text_clean] #remove punc up\n",
        "data['text_clean'] = [replace(j) for j in data.text_clean] #remove \\n \\t"
      ],
      "execution_count": null,
      "outputs": []
    },
    {
      "cell_type": "code",
      "metadata": {
        "colab": {
          "base_uri": "https://localhost:8080/",
          "height": 1000
        },
        "id": "WvgxmEh5EXd2",
        "outputId": "dcbb7c98-ddc3-47a2-c2ba-63d578435e05"
      },
      "source": [
        "data.tail()"
      ],
      "execution_count": null,
      "outputs": [
        {
          "output_type": "execute_result",
          "data": {
            "text/html": [
              "<div>\n",
              "<style scoped>\n",
              "    .dataframe tbody tr th:only-of-type {\n",
              "        vertical-align: middle;\n",
              "    }\n",
              "\n",
              "    .dataframe tbody tr th {\n",
              "        vertical-align: top;\n",
              "    }\n",
              "\n",
              "    .dataframe thead th {\n",
              "        text-align: right;\n",
              "    }\n",
              "</style>\n",
              "<table border=\"1\" class=\"dataframe\">\n",
              "  <thead>\n",
              "    <tr style=\"text-align: right;\">\n",
              "      <th></th>\n",
              "      <th>category</th>\n",
              "      <th>news</th>\n",
              "      <th>remove_emoji</th>\n",
              "      <th>hastags</th>\n",
              "      <th>remove_email</th>\n",
              "      <th>remove_hashtag</th>\n",
              "      <th>remove_special_character</th>\n",
              "      <th>text_clean</th>\n",
              "    </tr>\n",
              "  </thead>\n",
              "  <tbody>\n",
              "    <tr>\n",
              "      <th>127595</th>\n",
              "      <td>1</td>\n",
              "      <td>around the world ukrainian presidential candidate viktor yushchenko was poisoned with the most harmful known dioxin, which is contained in agent orange, a scientist who analyzed his blood said friday.</td>\n",
              "      <td>around the world ukrainian presidential candidate viktor yushchenko was poisoned with the most harmful known dioxin, which is contained in agent orange, a scientist who analyzed his blood said friday.</td>\n",
              "      <td>[]</td>\n",
              "      <td>around the world ukrainian presidential candidate viktor yushchenko was poisoned with the most harmful known dioxin, which is contained in agent orange, a scientist who analyzed his blood said friday.</td>\n",
              "      <td>around the world ukrainian presidential candidate viktor yushchenko was poisoned with the most harmful known dioxin, which is contained in agent orange, a scientist who analyzed his blood said friday.</td>\n",
              "      <td>around the world ukrainian presidential candidate viktor yushchenko was poisoned with the most harmful known dioxin, which is contained in agent orange, a scientist who analyzed his blood said friday.</td>\n",
              "      <td>around the world ukrainian presidential candidate viktor yushchenko was poisoned with the most harmful known dioxin  which is contained in agent orange  a scientist who analyzed his blood said friday</td>\n",
              "    </tr>\n",
              "    <tr>\n",
              "      <th>127596</th>\n",
              "      <td>2</td>\n",
              "      <td>void is filled with clement with the supply of attractive pitching options dwindling daily -- they lost pedro martinez to the mets, missed on tim hudson, and are resigned to randy johnson becoming a yankee -- the red sox struck again last night, coming to terms with free agent matt clement on a three-year deal that will pay the righthander in the neighborhood of \\$25 ...</td>\n",
              "      <td>void is filled with clement with the supply of attractive pitching options dwindling daily -- they lost pedro martinez to the mets, missed on tim hudson, and are resigned to randy johnson becoming a yankee -- the red sox struck again last night, coming to terms with free agent matt clement on a three-year deal that will pay the righthander in the neighborhood of \\$25 ...</td>\n",
              "      <td>[]</td>\n",
              "      <td>void is filled with clement with the supply of attractive pitching options dwindling daily -- they lost pedro martinez to the mets, missed on tim hudson, and are resigned to randy johnson becoming a yankee -- the red sox struck again last night, coming to terms with free agent matt clement on a three-year deal that will pay the righthander in the neighborhood of \\$25 ...</td>\n",
              "      <td>void is filled with clement with the supply of attractive pitching options dwindling daily -- they lost pedro martinez to the mets, missed on tim hudson, and are resigned to randy johnson becoming a yankee -- the red sox struck again last night, coming to terms with free agent matt clement on a three-year deal that will pay the righthander in the neighborhood of \\$25 ...</td>\n",
              "      <td>void is filled with clement with the supply of attractive pitching options dwindling daily -- they lost pedro martinez to the mets, missed on tim hudson, and are resigned to randy johnson becoming a yankee -- the red sox struck again last night, coming to terms with free agent matt clement on a three-year deal that will pay the righthander in the neighborhood of \\$25 ...</td>\n",
              "      <td>void is filled with clement with the supply of attractive pitching options dwindling daily    they lost pedro martinez to the mets  missed on tim hudson  and are resigned to randy johnson becoming a yankee    the red sox struck again last night  coming to terms with free agent matt clement on a three year deal that will pay the righthander in the neighborhood of   25</td>\n",
              "    </tr>\n",
              "    <tr>\n",
              "      <th>127597</th>\n",
              "      <td>2</td>\n",
              "      <td>martinez leaves bitter like roger clemens did almost exactly eight years earlier, pedro martinez has left the red sox apparently bitter about the way he was treated by management.</td>\n",
              "      <td>martinez leaves bitter like roger clemens did almost exactly eight years earlier, pedro martinez has left the red sox apparently bitter about the way he was treated by management.</td>\n",
              "      <td>[]</td>\n",
              "      <td>martinez leaves bitter like roger clemens did almost exactly eight years earlier, pedro martinez has left the red sox apparently bitter about the way he was treated by management.</td>\n",
              "      <td>martinez leaves bitter like roger clemens did almost exactly eight years earlier, pedro martinez has left the red sox apparently bitter about the way he was treated by management.</td>\n",
              "      <td>martinez leaves bitter like roger clemens did almost exactly eight years earlier, pedro martinez has left the red sox apparently bitter about the way he was treated by management.</td>\n",
              "      <td>martinez leaves bitter like roger clemens did almost exactly eight years earlier  pedro martinez has left the red sox apparently bitter about the way he was treated by management</td>\n",
              "    </tr>\n",
              "    <tr>\n",
              "      <th>127598</th>\n",
              "      <td>3</td>\n",
              "      <td>5 of arthritis patients in singapore take bextra or celebrex &amp;lt;b&amp;gt;...&amp;lt;/b&amp;gt; singapore : doctors in the united states have warned that painkillers bextra and celebrex may be linked to major cardiovascular problems and should not be prescribed.</td>\n",
              "      <td>5 of arthritis patients in singapore take bextra or celebrex &amp;lt;b&amp;gt;...&amp;lt;/b&amp;gt; singapore : doctors in the united states have warned that painkillers bextra and celebrex may be linked to major cardiovascular problems and should not be prescribed.</td>\n",
              "      <td>[]</td>\n",
              "      <td>5 of arthritis patients in singapore take bextra or celebrex &amp;lt;b&amp;gt;...&amp;lt;/b&amp;gt; singapore : doctors in the united states have warned that painkillers bextra and celebrex may be linked to major cardiovascular problems and should not be prescribed.</td>\n",
              "      <td>5 of arthritis patients in singapore take bextra or celebrex &amp;lt;b&amp;gt;...&amp;lt;/b&amp;gt; singapore : doctors in the united states have warned that painkillers bextra and celebrex may be linked to major cardiovascular problems and should not be prescribed.</td>\n",
              "      <td>5 of arthritis patients in singapore take bextra or celebrex ... singapore : doctors in the united states have warned that painkillers bextra and celebrex may be linked to major cardiovascular problems and should not be prescribed.</td>\n",
              "      <td>5 of arthritis patients in singapore take bextra or celebrex     singapore   doctors in the united states have warned that painkillers bextra and celebrex may be linked to major cardiovascular problems and should not be prescribed</td>\n",
              "    </tr>\n",
              "    <tr>\n",
              "      <th>127599</th>\n",
              "      <td>3</td>\n",
              "      <td>ebay gets into rentals ebay plans to buy the apartment and home rental service rent.com for \\$415 million, adding to its already exhaustive breadth of offerings.</td>\n",
              "      <td>ebay gets into rentals ebay plans to buy the apartment and home rental service rent.com for \\$415 million, adding to its already exhaustive breadth of offerings.</td>\n",
              "      <td>[]</td>\n",
              "      <td>ebay gets into rentals ebay plans to buy the apartment and home rental service rent.com for \\$415 million, adding to its already exhaustive breadth of offerings.</td>\n",
              "      <td>ebay gets into rentals ebay plans to buy the apartment and home rental service rent.com for \\$415 million, adding to its already exhaustive breadth of offerings.</td>\n",
              "      <td>ebay gets into rentals ebay plans to buy the apartment and home rental service rent.com for \\$415 million, adding to its already exhaustive breadth of offerings.</td>\n",
              "      <td>ebay gets into rentals ebay plans to buy the apartment and home rental service rent com for   415 million  adding to its already exhaustive breadth of offerings</td>\n",
              "    </tr>\n",
              "  </tbody>\n",
              "</table>\n",
              "</div>"
            ],
            "text/plain": [
              "        category  \\\n",
              "127595  1          \n",
              "127596  2          \n",
              "127597  2          \n",
              "127598  3          \n",
              "127599  3          \n",
              "\n",
              "                                                                                                                                                                                                                                                                                                                                                                                         news  \\\n",
              "127595  around the world ukrainian presidential candidate viktor yushchenko was poisoned with the most harmful known dioxin, which is contained in agent orange, a scientist who analyzed his blood said friday.                                                                                                                                                                                \n",
              "127596  void is filled with clement with the supply of attractive pitching options dwindling daily -- they lost pedro martinez to the mets, missed on tim hudson, and are resigned to randy johnson becoming a yankee -- the red sox struck again last night, coming to terms with free agent matt clement on a three-year deal that will pay the righthander in the neighborhood of \\$25 ...   \n",
              "127597  martinez leaves bitter like roger clemens did almost exactly eight years earlier, pedro martinez has left the red sox apparently bitter about the way he was treated by management.                                                                                                                                                                                                     \n",
              "127598  5 of arthritis patients in singapore take bextra or celebrex &lt;b&gt;...&lt;/b&gt; singapore : doctors in the united states have warned that painkillers bextra and celebrex may be linked to major cardiovascular problems and should not be prescribed.                                                                                                                              \n",
              "127599  ebay gets into rentals ebay plans to buy the apartment and home rental service rent.com for \\$415 million, adding to its already exhaustive breadth of offerings.                                                                                                                                                                                                                       \n",
              "\n",
              "                                                                                                                                                                                                                                                                                                                                                                                 remove_emoji  \\\n",
              "127595  around the world ukrainian presidential candidate viktor yushchenko was poisoned with the most harmful known dioxin, which is contained in agent orange, a scientist who analyzed his blood said friday.                                                                                                                                                                                \n",
              "127596  void is filled with clement with the supply of attractive pitching options dwindling daily -- they lost pedro martinez to the mets, missed on tim hudson, and are resigned to randy johnson becoming a yankee -- the red sox struck again last night, coming to terms with free agent matt clement on a three-year deal that will pay the righthander in the neighborhood of \\$25 ...   \n",
              "127597  martinez leaves bitter like roger clemens did almost exactly eight years earlier, pedro martinez has left the red sox apparently bitter about the way he was treated by management.                                                                                                                                                                                                     \n",
              "127598  5 of arthritis patients in singapore take bextra or celebrex &lt;b&gt;...&lt;/b&gt; singapore : doctors in the united states have warned that painkillers bextra and celebrex may be linked to major cardiovascular problems and should not be prescribed.                                                                                                                              \n",
              "127599  ebay gets into rentals ebay plans to buy the apartment and home rental service rent.com for \\$415 million, adding to its already exhaustive breadth of offerings.                                                                                                                                                                                                                       \n",
              "\n",
              "       hastags  \\\n",
              "127595  []       \n",
              "127596  []       \n",
              "127597  []       \n",
              "127598  []       \n",
              "127599  []       \n",
              "\n",
              "                                                                                                                                                                                                                                                                                                                                                                                 remove_email  \\\n",
              "127595  around the world ukrainian presidential candidate viktor yushchenko was poisoned with the most harmful known dioxin, which is contained in agent orange, a scientist who analyzed his blood said friday.                                                                                                                                                                                \n",
              "127596  void is filled with clement with the supply of attractive pitching options dwindling daily -- they lost pedro martinez to the mets, missed on tim hudson, and are resigned to randy johnson becoming a yankee -- the red sox struck again last night, coming to terms with free agent matt clement on a three-year deal that will pay the righthander in the neighborhood of \\$25 ...   \n",
              "127597  martinez leaves bitter like roger clemens did almost exactly eight years earlier, pedro martinez has left the red sox apparently bitter about the way he was treated by management.                                                                                                                                                                                                     \n",
              "127598  5 of arthritis patients in singapore take bextra or celebrex &lt;b&gt;...&lt;/b&gt; singapore : doctors in the united states have warned that painkillers bextra and celebrex may be linked to major cardiovascular problems and should not be prescribed.                                                                                                                              \n",
              "127599  ebay gets into rentals ebay plans to buy the apartment and home rental service rent.com for \\$415 million, adding to its already exhaustive breadth of offerings.                                                                                                                                                                                                                       \n",
              "\n",
              "                                                                                                                                                                                                                                                                                                                                                                               remove_hashtag  \\\n",
              "127595  around the world ukrainian presidential candidate viktor yushchenko was poisoned with the most harmful known dioxin, which is contained in agent orange, a scientist who analyzed his blood said friday.                                                                                                                                                                                \n",
              "127596  void is filled with clement with the supply of attractive pitching options dwindling daily -- they lost pedro martinez to the mets, missed on tim hudson, and are resigned to randy johnson becoming a yankee -- the red sox struck again last night, coming to terms with free agent matt clement on a three-year deal that will pay the righthander in the neighborhood of \\$25 ...   \n",
              "127597  martinez leaves bitter like roger clemens did almost exactly eight years earlier, pedro martinez has left the red sox apparently bitter about the way he was treated by management.                                                                                                                                                                                                     \n",
              "127598  5 of arthritis patients in singapore take bextra or celebrex &lt;b&gt;...&lt;/b&gt; singapore : doctors in the united states have warned that painkillers bextra and celebrex may be linked to major cardiovascular problems and should not be prescribed.                                                                                                                              \n",
              "127599  ebay gets into rentals ebay plans to buy the apartment and home rental service rent.com for \\$415 million, adding to its already exhaustive breadth of offerings.                                                                                                                                                                                                                       \n",
              "\n",
              "                                                                                                                                                                                                                                                                                                                                                                     remove_special_character  \\\n",
              "127595  around the world ukrainian presidential candidate viktor yushchenko was poisoned with the most harmful known dioxin, which is contained in agent orange, a scientist who analyzed his blood said friday.                                                                                                                                                                                \n",
              "127596  void is filled with clement with the supply of attractive pitching options dwindling daily -- they lost pedro martinez to the mets, missed on tim hudson, and are resigned to randy johnson becoming a yankee -- the red sox struck again last night, coming to terms with free agent matt clement on a three-year deal that will pay the righthander in the neighborhood of \\$25 ...   \n",
              "127597  martinez leaves bitter like roger clemens did almost exactly eight years earlier, pedro martinez has left the red sox apparently bitter about the way he was treated by management.                                                                                                                                                                                                     \n",
              "127598  5 of arthritis patients in singapore take bextra or celebrex ... singapore : doctors in the united states have warned that painkillers bextra and celebrex may be linked to major cardiovascular problems and should not be prescribed.                                                                                                                                                 \n",
              "127599  ebay gets into rentals ebay plans to buy the apartment and home rental service rent.com for \\$415 million, adding to its already exhaustive breadth of offerings.                                                                                                                                                                                                                       \n",
              "\n",
              "                                                                                                                                                                                                                                                                                                                                                                                   text_clean  \n",
              "127595  around the world ukrainian presidential candidate viktor yushchenko was poisoned with the most harmful known dioxin  which is contained in agent orange  a scientist who analyzed his blood said friday                                                                                                                                                                                \n",
              "127596  void is filled with clement with the supply of attractive pitching options dwindling daily    they lost pedro martinez to the mets  missed on tim hudson  and are resigned to randy johnson becoming a yankee    the red sox struck again last night  coming to terms with free agent matt clement on a three year deal that will pay the righthander in the neighborhood of   25      \n",
              "127597  martinez leaves bitter like roger clemens did almost exactly eight years earlier  pedro martinez has left the red sox apparently bitter about the way he was treated by management                                                                                                                                                                                                     \n",
              "127598  5 of arthritis patients in singapore take bextra or celebrex     singapore   doctors in the united states have warned that painkillers bextra and celebrex may be linked to major cardiovascular problems and should not be prescribed                                                                                                                                                 \n",
              "127599  ebay gets into rentals ebay plans to buy the apartment and home rental service rent com for   415 million  adding to its already exhaustive breadth of offerings                                                                                                                                                                                                                       "
            ]
          },
          "metadata": {
            "tags": []
          },
          "execution_count": 18
        }
      ]
    },
    {
      "cell_type": "markdown",
      "metadata": {
        "id": "POmfKFB8NPoC"
      },
      "source": [
        "### Custom Cleansing Data\n",
        "\n",
        "Custom for remove specific word"
      ]
    },
    {
      "cell_type": "code",
      "metadata": {
        "id": "l6XY9touilps"
      },
      "source": [
        "def text_clean(text):    \n",
        "    ## Decontract text            \n",
        "    # specific\n",
        "    text = re.sub(r\"won\\'t\", \"will not\", text)\n",
        "    text = re.sub(r\"can\\'t\", \"can not\", text)\n",
        "    text = re.sub(r\"won\\’t\", \"will not\", text)\n",
        "    text = re.sub(r\"can\\’t\", \"can not\", text)\n",
        "    text = re.sub(r\"\\'t've\", \" not have\", text)\n",
        "    text = re.sub(r\"\\'d've\", \" would have\", text)\n",
        "    text = re.sub(r\"\\'clock\", \"f the clock\", text)\n",
        "    text = re.sub(r\"\\'cause\", \" because\", text)\n",
        "    \n",
        "    # general\n",
        "    text = re.sub(r\"n\\'t\", \" not\", text)\n",
        "    text = re.sub(r\"\\'re\", \" are\", text)\n",
        "    text = re.sub(r\"\\'s\", \" is\", text)\n",
        "    text = re.sub(r\"\\'ll\", \" will\", text)\n",
        "    text = re.sub(r\"\\'t\", \" not\", text)\n",
        "    text = re.sub(r\"\\'ve\", \" have\", text)\n",
        "    text = re.sub(r\"\\'m\", \" am\", text)\n",
        "    text = re.sub(r\"n\\’t\", \" not\", text)\n",
        "    text = re.sub(r\"\\’re\", \" are\", text)\n",
        "    text = re.sub(r\"\\’s\", \" is\", text)\n",
        "    text = re.sub(r\"\\’ll\", \" will\", text)\n",
        "    text = re.sub(r\"\\’t\", \" not\", text)\n",
        "    text = re.sub(r\"\\’ve\", \" have\", text)\n",
        "    text = re.sub(r\"\\’m\", \" am\", text)\n",
        "    text = re.sub(r\"\\’\", \"\\'\", text)\n",
        "    \n",
        "    # remove all puctuation\n",
        "    text = re.sub('\\[.*?\\]', '', text)\n",
        "    text = re.sub('[%s]' % re.escape(string.punctuation), '', text)\n",
        "    text = re.sub('\\w*\\d\\w*', '', text) #remove digit/number\n",
        "    \n",
        "    # remove all special characters\n",
        "    text = re.sub(r'\\W', ' ', text)\n",
        "\n",
        "    # remove break\n",
        "    text = re.sub('[‘’“”…]', '', text)\n",
        "    \n",
        "    # remove prefixed 'b'\n",
        "    text = re.sub(r'^b\\s+', '', text)\n",
        "    \n",
        "    # substituting multiple spaces with single space\n",
        "    text = re.sub(r'\\s+', ' ', text, flags=re.I)\n",
        "    \n",
        "    return text\n",
        "\n",
        "data['text_clean'] = data['text_clean'].apply(lambda x: text_clean(x))"
      ],
      "execution_count": null,
      "outputs": []
    },
    {
      "cell_type": "code",
      "metadata": {
        "colab": {
          "base_uri": "https://localhost:8080/",
          "height": 1000
        },
        "id": "M4ghXhUJjqjd",
        "outputId": "8f5b1d33-a18a-49ef-b6f0-bb0e20f32a94"
      },
      "source": [
        "data.head()"
      ],
      "execution_count": null,
      "outputs": [
        {
          "output_type": "execute_result",
          "data": {
            "text/html": [
              "<div>\n",
              "<style scoped>\n",
              "    .dataframe tbody tr th:only-of-type {\n",
              "        vertical-align: middle;\n",
              "    }\n",
              "\n",
              "    .dataframe tbody tr th {\n",
              "        vertical-align: top;\n",
              "    }\n",
              "\n",
              "    .dataframe thead th {\n",
              "        text-align: right;\n",
              "    }\n",
              "</style>\n",
              "<table border=\"1\" class=\"dataframe\">\n",
              "  <thead>\n",
              "    <tr style=\"text-align: right;\">\n",
              "      <th></th>\n",
              "      <th>category</th>\n",
              "      <th>news</th>\n",
              "      <th>remove_emoji</th>\n",
              "      <th>hastags</th>\n",
              "      <th>remove_email</th>\n",
              "      <th>remove_hashtag</th>\n",
              "      <th>remove_special_character</th>\n",
              "      <th>text_clean</th>\n",
              "    </tr>\n",
              "  </thead>\n",
              "  <tbody>\n",
              "    <tr>\n",
              "      <th>0</th>\n",
              "      <td>3</td>\n",
              "      <td>wall st. bears claw back into the black (reuters) reuters - short-sellers, wall street's dwindling\\band of ultra-cynics, are seeing green again.</td>\n",
              "      <td>wall st. bears claw back into the black (reuters) reuters - short-sellers, wall street's dwindling\\band of ultra-cynics, are seeing green again.</td>\n",
              "      <td>[]</td>\n",
              "      <td>wall st. bears claw back into the black (reuters) reuters - short-sellers, wall street's dwindling\\band of ultra-cynics, are seeing green again.</td>\n",
              "      <td>wall st. bears claw back into the black (reuters) reuters - short-sellers, wall street's dwindling\\band of ultra-cynics, are seeing green again.</td>\n",
              "      <td>wall st. bears claw back into the black (reuters) reuters - short-sellers, wall street's dwindling\\band of ultra-cynics, are seeing green again.</td>\n",
              "      <td>wall st bears claw back into the black reuters reuters short sellers wall street is dwindling band of ultra cynics are seeing green again</td>\n",
              "    </tr>\n",
              "    <tr>\n",
              "      <th>1</th>\n",
              "      <td>3</td>\n",
              "      <td>carlyle looks toward commercial aerospace (reuters) reuters - private investment firm carlyle group,\\which has a reputation for making well-timed and occasionally\\controversial plays in the defense industry, has quietly placed\\its bets on another part of the market.</td>\n",
              "      <td>carlyle looks toward commercial aerospace (reuters) reuters - private investment firm carlyle group,\\which has a reputation for making well-timed and occasionally\\controversial plays in the defense industry, has quietly placed\\its bets on another part of the market.</td>\n",
              "      <td>[]</td>\n",
              "      <td>carlyle looks toward commercial aerospace (reuters) reuters - private investment firm carlyle group,\\which has a reputation for making well-timed and occasionally\\controversial plays in the defense industry, has quietly placed\\its bets on another part of the market.</td>\n",
              "      <td>carlyle looks toward commercial aerospace (reuters) reuters - private investment firm carlyle group,\\which has a reputation for making well-timed and occasionally\\controversial plays in the defense industry, has quietly placed\\its bets on another part of the market.</td>\n",
              "      <td>carlyle looks toward commercial aerospace (reuters) reuters - private investment firm carlyle group,\\which has a reputation for making well-timed and occasionally\\controversial plays in the defense industry, has quietly placed\\its bets on another part of the market.</td>\n",
              "      <td>carlyle looks toward commercial aerospace reuters reuters private investment firm carlyle group which has a reputation for making well timed and occasionally controversial plays in the defense industry has quietly placed its bets on another part of the market</td>\n",
              "    </tr>\n",
              "    <tr>\n",
              "      <th>2</th>\n",
              "      <td>3</td>\n",
              "      <td>oil and economy cloud stocks' outlook (reuters) reuters - soaring crude prices plus worries\\about the economy and the outlook for earnings are expected to\\hang over the stock market next week during the depth of the\\summer doldrums.</td>\n",
              "      <td>oil and economy cloud stocks' outlook (reuters) reuters - soaring crude prices plus worries\\about the economy and the outlook for earnings are expected to\\hang over the stock market next week during the depth of the\\summer doldrums.</td>\n",
              "      <td>[]</td>\n",
              "      <td>oil and economy cloud stocks' outlook (reuters) reuters - soaring crude prices plus worries\\about the economy and the outlook for earnings are expected to\\hang over the stock market next week during the depth of the\\summer doldrums.</td>\n",
              "      <td>oil and economy cloud stocks' outlook (reuters) reuters - soaring crude prices plus worries\\about the economy and the outlook for earnings are expected to\\hang over the stock market next week during the depth of the\\summer doldrums.</td>\n",
              "      <td>oil and economy cloud stocks' outlook (reuters) reuters - soaring crude prices plus worries\\about the economy and the outlook for earnings are expected to\\hang over the stock market next week during the depth of the\\summer doldrums.</td>\n",
              "      <td>oil and economy cloud stocks outlook reuters reuters soaring crude prices plus worries about the economy and the outlook for earnings are expected to hang over the stock market next week during the depth of the summer doldrums</td>\n",
              "    </tr>\n",
              "    <tr>\n",
              "      <th>3</th>\n",
              "      <td>3</td>\n",
              "      <td>iraq halts oil exports from main southern pipeline (reuters) reuters - authorities have halted oil export\\flows from the main pipeline in southern iraq after\\intelligence showed a rebel militia could strike\\infrastructure, an oil official said on saturday.</td>\n",
              "      <td>iraq halts oil exports from main southern pipeline (reuters) reuters - authorities have halted oil export\\flows from the main pipeline in southern iraq after\\intelligence showed a rebel militia could strike\\infrastructure, an oil official said on saturday.</td>\n",
              "      <td>[]</td>\n",
              "      <td>iraq halts oil exports from main southern pipeline (reuters) reuters - authorities have halted oil export\\flows from the main pipeline in southern iraq after\\intelligence showed a rebel militia could strike\\infrastructure, an oil official said on saturday.</td>\n",
              "      <td>iraq halts oil exports from main southern pipeline (reuters) reuters - authorities have halted oil export\\flows from the main pipeline in southern iraq after\\intelligence showed a rebel militia could strike\\infrastructure, an oil official said on saturday.</td>\n",
              "      <td>iraq halts oil exports from main southern pipeline (reuters) reuters - authorities have halted oil export\\flows from the main pipeline in southern iraq after\\intelligence showed a rebel militia could strike\\infrastructure, an oil official said on saturday.</td>\n",
              "      <td>iraq halts oil exports from main southern pipeline reuters reuters authorities have halted oil export flows from the main pipeline in southern iraq after intelligence showed a rebel militia could strike infrastructure an oil official said on saturday</td>\n",
              "    </tr>\n",
              "    <tr>\n",
              "      <th>4</th>\n",
              "      <td>3</td>\n",
              "      <td>oil prices soar to all-time record, posing new menace to us economy (afp) afp - tearaway world oil prices, toppling records and straining wallets, present a new economic menace barely three months before the us presidential elections.</td>\n",
              "      <td>oil prices soar to all-time record, posing new menace to us economy (afp) afp - tearaway world oil prices, toppling records and straining wallets, present a new economic menace barely three months before the us presidential elections.</td>\n",
              "      <td>[]</td>\n",
              "      <td>oil prices soar to all-time record, posing new menace to us economy (afp) afp - tearaway world oil prices, toppling records and straining wallets, present a new economic menace barely three months before the us presidential elections.</td>\n",
              "      <td>oil prices soar to all-time record, posing new menace to us economy (afp) afp - tearaway world oil prices, toppling records and straining wallets, present a new economic menace barely three months before the us presidential elections.</td>\n",
              "      <td>oil prices soar to all-time record, posing new menace to us economy (afp) afp - tearaway world oil prices, toppling records and straining wallets, present a new economic menace barely three months before the us presidential elections.</td>\n",
              "      <td>oil prices soar to all time record posing new menace to us economy afp afp tearaway world oil prices toppling records and straining wallets present a new economic menace barely three months before the us presidential elections</td>\n",
              "    </tr>\n",
              "  </tbody>\n",
              "</table>\n",
              "</div>"
            ],
            "text/plain": [
              "   category  \\\n",
              "0  3          \n",
              "1  3          \n",
              "2  3          \n",
              "3  3          \n",
              "4  3          \n",
              "\n",
              "                                                                                                                                                                                                                                                                         news  \\\n",
              "0  wall st. bears claw back into the black (reuters) reuters - short-sellers, wall street's dwindling\\band of ultra-cynics, are seeing green again.                                                                                                                             \n",
              "1  carlyle looks toward commercial aerospace (reuters) reuters - private investment firm carlyle group,\\which has a reputation for making well-timed and occasionally\\controversial plays in the defense industry, has quietly placed\\its bets on another part of the market.   \n",
              "2  oil and economy cloud stocks' outlook (reuters) reuters - soaring crude prices plus worries\\about the economy and the outlook for earnings are expected to\\hang over the stock market next week during the depth of the\\summer doldrums.                                     \n",
              "3  iraq halts oil exports from main southern pipeline (reuters) reuters - authorities have halted oil export\\flows from the main pipeline in southern iraq after\\intelligence showed a rebel militia could strike\\infrastructure, an oil official said on saturday.             \n",
              "4  oil prices soar to all-time record, posing new menace to us economy (afp) afp - tearaway world oil prices, toppling records and straining wallets, present a new economic menace barely three months before the us presidential elections.                                   \n",
              "\n",
              "                                                                                                                                                                                                                                                                 remove_emoji  \\\n",
              "0  wall st. bears claw back into the black (reuters) reuters - short-sellers, wall street's dwindling\\band of ultra-cynics, are seeing green again.                                                                                                                             \n",
              "1  carlyle looks toward commercial aerospace (reuters) reuters - private investment firm carlyle group,\\which has a reputation for making well-timed and occasionally\\controversial plays in the defense industry, has quietly placed\\its bets on another part of the market.   \n",
              "2  oil and economy cloud stocks' outlook (reuters) reuters - soaring crude prices plus worries\\about the economy and the outlook for earnings are expected to\\hang over the stock market next week during the depth of the\\summer doldrums.                                     \n",
              "3  iraq halts oil exports from main southern pipeline (reuters) reuters - authorities have halted oil export\\flows from the main pipeline in southern iraq after\\intelligence showed a rebel militia could strike\\infrastructure, an oil official said on saturday.             \n",
              "4  oil prices soar to all-time record, posing new menace to us economy (afp) afp - tearaway world oil prices, toppling records and straining wallets, present a new economic menace barely three months before the us presidential elections.                                   \n",
              "\n",
              "  hastags  \\\n",
              "0  []       \n",
              "1  []       \n",
              "2  []       \n",
              "3  []       \n",
              "4  []       \n",
              "\n",
              "                                                                                                                                                                                                                                                                 remove_email  \\\n",
              "0  wall st. bears claw back into the black (reuters) reuters - short-sellers, wall street's dwindling\\band of ultra-cynics, are seeing green again.                                                                                                                             \n",
              "1  carlyle looks toward commercial aerospace (reuters) reuters - private investment firm carlyle group,\\which has a reputation for making well-timed and occasionally\\controversial plays in the defense industry, has quietly placed\\its bets on another part of the market.   \n",
              "2  oil and economy cloud stocks' outlook (reuters) reuters - soaring crude prices plus worries\\about the economy and the outlook for earnings are expected to\\hang over the stock market next week during the depth of the\\summer doldrums.                                     \n",
              "3  iraq halts oil exports from main southern pipeline (reuters) reuters - authorities have halted oil export\\flows from the main pipeline in southern iraq after\\intelligence showed a rebel militia could strike\\infrastructure, an oil official said on saturday.             \n",
              "4  oil prices soar to all-time record, posing new menace to us economy (afp) afp - tearaway world oil prices, toppling records and straining wallets, present a new economic menace barely three months before the us presidential elections.                                   \n",
              "\n",
              "                                                                                                                                                                                                                                                               remove_hashtag  \\\n",
              "0  wall st. bears claw back into the black (reuters) reuters - short-sellers, wall street's dwindling\\band of ultra-cynics, are seeing green again.                                                                                                                             \n",
              "1  carlyle looks toward commercial aerospace (reuters) reuters - private investment firm carlyle group,\\which has a reputation for making well-timed and occasionally\\controversial plays in the defense industry, has quietly placed\\its bets on another part of the market.   \n",
              "2  oil and economy cloud stocks' outlook (reuters) reuters - soaring crude prices plus worries\\about the economy and the outlook for earnings are expected to\\hang over the stock market next week during the depth of the\\summer doldrums.                                     \n",
              "3  iraq halts oil exports from main southern pipeline (reuters) reuters - authorities have halted oil export\\flows from the main pipeline in southern iraq after\\intelligence showed a rebel militia could strike\\infrastructure, an oil official said on saturday.             \n",
              "4  oil prices soar to all-time record, posing new menace to us economy (afp) afp - tearaway world oil prices, toppling records and straining wallets, present a new economic menace barely three months before the us presidential elections.                                   \n",
              "\n",
              "                                                                                                                                                                                                                                                     remove_special_character  \\\n",
              "0  wall st. bears claw back into the black (reuters) reuters - short-sellers, wall street's dwindling\\band of ultra-cynics, are seeing green again.                                                                                                                             \n",
              "1  carlyle looks toward commercial aerospace (reuters) reuters - private investment firm carlyle group,\\which has a reputation for making well-timed and occasionally\\controversial plays in the defense industry, has quietly placed\\its bets on another part of the market.   \n",
              "2  oil and economy cloud stocks' outlook (reuters) reuters - soaring crude prices plus worries\\about the economy and the outlook for earnings are expected to\\hang over the stock market next week during the depth of the\\summer doldrums.                                     \n",
              "3  iraq halts oil exports from main southern pipeline (reuters) reuters - authorities have halted oil export\\flows from the main pipeline in southern iraq after\\intelligence showed a rebel militia could strike\\infrastructure, an oil official said on saturday.             \n",
              "4  oil prices soar to all-time record, posing new menace to us economy (afp) afp - tearaway world oil prices, toppling records and straining wallets, present a new economic menace barely three months before the us presidential elections.                                   \n",
              "\n",
              "                                                                                                                                                                                                                                                             text_clean  \n",
              "0  wall st bears claw back into the black reuters reuters short sellers wall street is dwindling band of ultra cynics are seeing green again                                                                                                                             \n",
              "1  carlyle looks toward commercial aerospace reuters reuters private investment firm carlyle group which has a reputation for making well timed and occasionally controversial plays in the defense industry has quietly placed its bets on another part of the market   \n",
              "2  oil and economy cloud stocks outlook reuters reuters soaring crude prices plus worries about the economy and the outlook for earnings are expected to hang over the stock market next week during the depth of the summer doldrums                                    \n",
              "3  iraq halts oil exports from main southern pipeline reuters reuters authorities have halted oil export flows from the main pipeline in southern iraq after intelligence showed a rebel militia could strike infrastructure an oil official said on saturday            \n",
              "4  oil prices soar to all time record posing new menace to us economy afp afp tearaway world oil prices toppling records and straining wallets present a new economic menace barely three months before the us presidential elections                                    "
            ]
          },
          "metadata": {
            "tags": []
          },
          "execution_count": 20
        }
      ]
    },
    {
      "cell_type": "markdown",
      "metadata": {
        "id": "xbfkPCOecTP5"
      },
      "source": [
        "## Data Preprocessing"
      ]
    },
    {
      "cell_type": "code",
      "metadata": {
        "colab": {
          "base_uri": "https://localhost:8080/",
          "height": 358
        },
        "id": "FdWUCRM-cjH4",
        "outputId": "44ab468a-3d60-447b-c33e-2eea2183fbee"
      },
      "source": [
        "# select columns\n",
        "data = data[['news', 'text_clean', 'category']]\n",
        "data.head()"
      ],
      "execution_count": null,
      "outputs": [
        {
          "output_type": "execute_result",
          "data": {
            "text/html": [
              "<div>\n",
              "<style scoped>\n",
              "    .dataframe tbody tr th:only-of-type {\n",
              "        vertical-align: middle;\n",
              "    }\n",
              "\n",
              "    .dataframe tbody tr th {\n",
              "        vertical-align: top;\n",
              "    }\n",
              "\n",
              "    .dataframe thead th {\n",
              "        text-align: right;\n",
              "    }\n",
              "</style>\n",
              "<table border=\"1\" class=\"dataframe\">\n",
              "  <thead>\n",
              "    <tr style=\"text-align: right;\">\n",
              "      <th></th>\n",
              "      <th>news</th>\n",
              "      <th>text_clean</th>\n",
              "      <th>category</th>\n",
              "    </tr>\n",
              "  </thead>\n",
              "  <tbody>\n",
              "    <tr>\n",
              "      <th>0</th>\n",
              "      <td>wall st. bears claw back into the black (reuters) reuters - short-sellers, wall street's dwindling\\band of ultra-cynics, are seeing green again.</td>\n",
              "      <td>wall st bears claw back into the black reuters reuters short sellers wall street is dwindling band of ultra cynics are seeing green again</td>\n",
              "      <td>3</td>\n",
              "    </tr>\n",
              "    <tr>\n",
              "      <th>1</th>\n",
              "      <td>carlyle looks toward commercial aerospace (reuters) reuters - private investment firm carlyle group,\\which has a reputation for making well-timed and occasionally\\controversial plays in the defense industry, has quietly placed\\its bets on another part of the market.</td>\n",
              "      <td>carlyle looks toward commercial aerospace reuters reuters private investment firm carlyle group which has a reputation for making well timed and occasionally controversial plays in the defense industry has quietly placed its bets on another part of the market</td>\n",
              "      <td>3</td>\n",
              "    </tr>\n",
              "    <tr>\n",
              "      <th>2</th>\n",
              "      <td>oil and economy cloud stocks' outlook (reuters) reuters - soaring crude prices plus worries\\about the economy and the outlook for earnings are expected to\\hang over the stock market next week during the depth of the\\summer doldrums.</td>\n",
              "      <td>oil and economy cloud stocks outlook reuters reuters soaring crude prices plus worries about the economy and the outlook for earnings are expected to hang over the stock market next week during the depth of the summer doldrums</td>\n",
              "      <td>3</td>\n",
              "    </tr>\n",
              "    <tr>\n",
              "      <th>3</th>\n",
              "      <td>iraq halts oil exports from main southern pipeline (reuters) reuters - authorities have halted oil export\\flows from the main pipeline in southern iraq after\\intelligence showed a rebel militia could strike\\infrastructure, an oil official said on saturday.</td>\n",
              "      <td>iraq halts oil exports from main southern pipeline reuters reuters authorities have halted oil export flows from the main pipeline in southern iraq after intelligence showed a rebel militia could strike infrastructure an oil official said on saturday</td>\n",
              "      <td>3</td>\n",
              "    </tr>\n",
              "    <tr>\n",
              "      <th>4</th>\n",
              "      <td>oil prices soar to all-time record, posing new menace to us economy (afp) afp - tearaway world oil prices, toppling records and straining wallets, present a new economic menace barely three months before the us presidential elections.</td>\n",
              "      <td>oil prices soar to all time record posing new menace to us economy afp afp tearaway world oil prices toppling records and straining wallets present a new economic menace barely three months before the us presidential elections</td>\n",
              "      <td>3</td>\n",
              "    </tr>\n",
              "  </tbody>\n",
              "</table>\n",
              "</div>"
            ],
            "text/plain": [
              "                                                                                                                                                                                                                                                                         news  \\\n",
              "0  wall st. bears claw back into the black (reuters) reuters - short-sellers, wall street's dwindling\\band of ultra-cynics, are seeing green again.                                                                                                                             \n",
              "1  carlyle looks toward commercial aerospace (reuters) reuters - private investment firm carlyle group,\\which has a reputation for making well-timed and occasionally\\controversial plays in the defense industry, has quietly placed\\its bets on another part of the market.   \n",
              "2  oil and economy cloud stocks' outlook (reuters) reuters - soaring crude prices plus worries\\about the economy and the outlook for earnings are expected to\\hang over the stock market next week during the depth of the\\summer doldrums.                                     \n",
              "3  iraq halts oil exports from main southern pipeline (reuters) reuters - authorities have halted oil export\\flows from the main pipeline in southern iraq after\\intelligence showed a rebel militia could strike\\infrastructure, an oil official said on saturday.             \n",
              "4  oil prices soar to all-time record, posing new menace to us economy (afp) afp - tearaway world oil prices, toppling records and straining wallets, present a new economic menace barely three months before the us presidential elections.                                   \n",
              "\n",
              "                                                                                                                                                                                                                                                             text_clean  \\\n",
              "0  wall st bears claw back into the black reuters reuters short sellers wall street is dwindling band of ultra cynics are seeing green again                                                                                                                              \n",
              "1  carlyle looks toward commercial aerospace reuters reuters private investment firm carlyle group which has a reputation for making well timed and occasionally controversial plays in the defense industry has quietly placed its bets on another part of the market    \n",
              "2  oil and economy cloud stocks outlook reuters reuters soaring crude prices plus worries about the economy and the outlook for earnings are expected to hang over the stock market next week during the depth of the summer doldrums                                     \n",
              "3  iraq halts oil exports from main southern pipeline reuters reuters authorities have halted oil export flows from the main pipeline in southern iraq after intelligence showed a rebel militia could strike infrastructure an oil official said on saturday             \n",
              "4  oil prices soar to all time record posing new menace to us economy afp afp tearaway world oil prices toppling records and straining wallets present a new economic menace barely three months before the us presidential elections                                     \n",
              "\n",
              "   category  \n",
              "0  3         \n",
              "1  3         \n",
              "2  3         \n",
              "3  3         \n",
              "4  3         "
            ]
          },
          "metadata": {
            "tags": []
          },
          "execution_count": 21
        }
      ]
    },
    {
      "cell_type": "markdown",
      "metadata": {
        "id": "WPIprnm3bko-"
      },
      "source": [
        "### Lemmatization"
      ]
    },
    {
      "cell_type": "code",
      "metadata": {
        "colab": {
          "base_uri": "https://localhost:8080/"
        },
        "id": "paGE5R_2boBl",
        "outputId": "d301cf9d-88bc-4bcc-b3d5-a9293e442f54"
      },
      "source": [
        "# import and download packages\n",
        "import nltk\n",
        "nltk.download('punkt')\n",
        "nltk.download('averaged_perceptron_tagger')\n",
        "nltk.download('wordnet')\n",
        "nltk.download('stopwords')"
      ],
      "execution_count": null,
      "outputs": [
        {
          "output_type": "stream",
          "text": [
            "[nltk_data] Downloading package punkt to /root/nltk_data...\n",
            "[nltk_data]   Unzipping tokenizers/punkt.zip.\n",
            "[nltk_data] Downloading package averaged_perceptron_tagger to\n",
            "[nltk_data]     /root/nltk_data...\n",
            "[nltk_data]   Unzipping taggers/averaged_perceptron_tagger.zip.\n",
            "[nltk_data] Downloading package wordnet to /root/nltk_data...\n",
            "[nltk_data]   Unzipping corpora/wordnet.zip.\n",
            "[nltk_data] Downloading package stopwords to /root/nltk_data...\n",
            "[nltk_data]   Unzipping corpora/stopwords.zip.\n"
          ],
          "name": "stdout"
        },
        {
          "output_type": "execute_result",
          "data": {
            "text/plain": [
              "True"
            ]
          },
          "metadata": {
            "tags": []
          },
          "execution_count": 22
        }
      ]
    },
    {
      "cell_type": "code",
      "metadata": {
        "colab": {
          "base_uri": "https://localhost:8080/",
          "height": 358
        },
        "id": "A2nwMWyJMTsX",
        "outputId": "d56e0f58-cb48-4a41-de3b-e5bc9a40040c"
      },
      "source": [
        "# import library\n",
        "import nltk\n",
        "from nltk.corpus import stopwords\n",
        "from nltk.tokenize import word_tokenize\n",
        "from nltk.stem.wordnet import WordNetLemmatizer\n",
        "from nltk.corpus import wordnet\n",
        "\n",
        "lemmatizer = nltk.stem.WordNetLemmatizer()\n",
        "wordnet_lemmatizer = WordNetLemmatizer()\n",
        "\n",
        "# define tag and lemmatization function\n",
        "def nltk_tag_to_wordnet_tag(nltk_tag):\n",
        "    if nltk_tag.startswith('J'):\n",
        "        return wordnet.ADJ\n",
        "    elif nltk_tag.startswith('V'):\n",
        "        return wordnet.VERB\n",
        "    elif nltk_tag.startswith('N'):\n",
        "        return wordnet.NOUN\n",
        "    elif nltk_tag.startswith('R'):\n",
        "        return wordnet.ADV\n",
        "    else:\n",
        "        return None\n",
        "\n",
        "def lemmatize_sentence(sentence):\n",
        "    #tokenize the sentence and find the POS tag for each token\n",
        "    nltk_tagged = nltk.pos_tag(nltk.word_tokenize(sentence))\n",
        "    #tuple of (token, wordnet_tag)\n",
        "    wordnet_tagged = map(lambda x: (x[0], nltk_tag_to_wordnet_tag(x[1])), nltk_tagged)\n",
        "    lemmatized_sentence = []\n",
        "    for word, tag in wordnet_tagged:\n",
        "        if tag is None:\n",
        "            #if there is no available tag, append the token as is\n",
        "            lemmatized_sentence.append(word)\n",
        "        else:\n",
        "            #else use the tag to lemmatize the token\n",
        "            lemmatized_sentence.append(lemmatizer.lemmatize(word, tag))\n",
        "    return \" \".join(lemmatized_sentence)\n",
        "\n",
        "\n",
        "\n",
        "# lemmatizing\n",
        "data['text_lemma'] = data['text_clean'].apply(lambda x: lemmatize_sentence(x))\n",
        "\n",
        "data = data[['text_clean','text_lemma','category']]\n",
        "data.head()"
      ],
      "execution_count": null,
      "outputs": [
        {
          "output_type": "execute_result",
          "data": {
            "text/html": [
              "<div>\n",
              "<style scoped>\n",
              "    .dataframe tbody tr th:only-of-type {\n",
              "        vertical-align: middle;\n",
              "    }\n",
              "\n",
              "    .dataframe tbody tr th {\n",
              "        vertical-align: top;\n",
              "    }\n",
              "\n",
              "    .dataframe thead th {\n",
              "        text-align: right;\n",
              "    }\n",
              "</style>\n",
              "<table border=\"1\" class=\"dataframe\">\n",
              "  <thead>\n",
              "    <tr style=\"text-align: right;\">\n",
              "      <th></th>\n",
              "      <th>text_clean</th>\n",
              "      <th>text_lemma</th>\n",
              "      <th>category</th>\n",
              "    </tr>\n",
              "  </thead>\n",
              "  <tbody>\n",
              "    <tr>\n",
              "      <th>0</th>\n",
              "      <td>wall st bears claw back into the black reuters reuters short sellers wall street is dwindling band of ultra cynics are seeing green again</td>\n",
              "      <td>wall st bear claw back into the black reuters reuters short seller wall street be dwindle band of ultra cynic be see green again</td>\n",
              "      <td>3</td>\n",
              "    </tr>\n",
              "    <tr>\n",
              "      <th>1</th>\n",
              "      <td>carlyle looks toward commercial aerospace reuters reuters private investment firm carlyle group which has a reputation for making well timed and occasionally controversial plays in the defense industry has quietly placed its bets on another part of the market</td>\n",
              "      <td>carlyle look toward commercial aerospace reuters reuters private investment firm carlyle group which have a reputation for make well time and occasionally controversial play in the defense industry have quietly place its bet on another part of the market</td>\n",
              "      <td>3</td>\n",
              "    </tr>\n",
              "    <tr>\n",
              "      <th>2</th>\n",
              "      <td>oil and economy cloud stocks outlook reuters reuters soaring crude prices plus worries about the economy and the outlook for earnings are expected to hang over the stock market next week during the depth of the summer doldrums</td>\n",
              "      <td>oil and economy cloud stock outlook reuters reuters soar crude price plus worry about the economy and the outlook for earnings be expect to hang over the stock market next week during the depth of the summer doldrums</td>\n",
              "      <td>3</td>\n",
              "    </tr>\n",
              "    <tr>\n",
              "      <th>3</th>\n",
              "      <td>iraq halts oil exports from main southern pipeline reuters reuters authorities have halted oil export flows from the main pipeline in southern iraq after intelligence showed a rebel militia could strike infrastructure an oil official said on saturday</td>\n",
              "      <td>iraq halt oil export from main southern pipeline reuters reuters authority have halt oil export flow from the main pipeline in southern iraq after intelligence show a rebel militia could strike infrastructure an oil official say on saturday</td>\n",
              "      <td>3</td>\n",
              "    </tr>\n",
              "    <tr>\n",
              "      <th>4</th>\n",
              "      <td>oil prices soar to all time record posing new menace to us economy afp afp tearaway world oil prices toppling records and straining wallets present a new economic menace barely three months before the us presidential elections</td>\n",
              "      <td>oil price soar to all time record pose new menace to us economy afp afp tearaway world oil price toppling record and strain wallet present a new economic menace barely three month before the us presidential election</td>\n",
              "      <td>3</td>\n",
              "    </tr>\n",
              "  </tbody>\n",
              "</table>\n",
              "</div>"
            ],
            "text/plain": [
              "                                                                                                                                                                                                                                                             text_clean  \\\n",
              "0  wall st bears claw back into the black reuters reuters short sellers wall street is dwindling band of ultra cynics are seeing green again                                                                                                                              \n",
              "1  carlyle looks toward commercial aerospace reuters reuters private investment firm carlyle group which has a reputation for making well timed and occasionally controversial plays in the defense industry has quietly placed its bets on another part of the market    \n",
              "2  oil and economy cloud stocks outlook reuters reuters soaring crude prices plus worries about the economy and the outlook for earnings are expected to hang over the stock market next week during the depth of the summer doldrums                                     \n",
              "3  iraq halts oil exports from main southern pipeline reuters reuters authorities have halted oil export flows from the main pipeline in southern iraq after intelligence showed a rebel militia could strike infrastructure an oil official said on saturday             \n",
              "4  oil prices soar to all time record posing new menace to us economy afp afp tearaway world oil prices toppling records and straining wallets present a new economic menace barely three months before the us presidential elections                                     \n",
              "\n",
              "                                                                                                                                                                                                                                                       text_lemma  \\\n",
              "0  wall st bear claw back into the black reuters reuters short seller wall street be dwindle band of ultra cynic be see green again                                                                                                                                 \n",
              "1  carlyle look toward commercial aerospace reuters reuters private investment firm carlyle group which have a reputation for make well time and occasionally controversial play in the defense industry have quietly place its bet on another part of the market   \n",
              "2  oil and economy cloud stock outlook reuters reuters soar crude price plus worry about the economy and the outlook for earnings be expect to hang over the stock market next week during the depth of the summer doldrums                                         \n",
              "3  iraq halt oil export from main southern pipeline reuters reuters authority have halt oil export flow from the main pipeline in southern iraq after intelligence show a rebel militia could strike infrastructure an oil official say on saturday                 \n",
              "4  oil price soar to all time record pose new menace to us economy afp afp tearaway world oil price toppling record and strain wallet present a new economic menace barely three month before the us presidential election                                          \n",
              "\n",
              "   category  \n",
              "0  3         \n",
              "1  3         \n",
              "2  3         \n",
              "3  3         \n",
              "4  3         "
            ]
          },
          "metadata": {
            "tags": []
          },
          "execution_count": 23
        }
      ]
    },
    {
      "cell_type": "markdown",
      "metadata": {
        "id": "C1cIydF4aYhD"
      },
      "source": [
        "### Stopword"
      ]
    },
    {
      "cell_type": "code",
      "metadata": {
        "colab": {
          "base_uri": "https://localhost:8080/",
          "height": 460
        },
        "id": "bKHyt9ZaUcB2",
        "outputId": "66bc8bbe-b6d1-4ed9-b18a-c95bcc486461"
      },
      "source": [
        "stop = stopwords.words('english')\n",
        "\n",
        "data['text_preprocess'] = data['text_lemma'].apply(lambda x: ' '.join([word for word in x.split() if word not in (stop)]))\n",
        "data.head()"
      ],
      "execution_count": null,
      "outputs": [
        {
          "output_type": "execute_result",
          "data": {
            "text/html": [
              "<div>\n",
              "<style scoped>\n",
              "    .dataframe tbody tr th:only-of-type {\n",
              "        vertical-align: middle;\n",
              "    }\n",
              "\n",
              "    .dataframe tbody tr th {\n",
              "        vertical-align: top;\n",
              "    }\n",
              "\n",
              "    .dataframe thead th {\n",
              "        text-align: right;\n",
              "    }\n",
              "</style>\n",
              "<table border=\"1\" class=\"dataframe\">\n",
              "  <thead>\n",
              "    <tr style=\"text-align: right;\">\n",
              "      <th></th>\n",
              "      <th>text_clean</th>\n",
              "      <th>text_lemma</th>\n",
              "      <th>category</th>\n",
              "      <th>text_preprocess</th>\n",
              "    </tr>\n",
              "  </thead>\n",
              "  <tbody>\n",
              "    <tr>\n",
              "      <th>0</th>\n",
              "      <td>wall st bears claw back into the black reuters reuters short sellers wall street is dwindling band of ultra cynics are seeing green again</td>\n",
              "      <td>wall st bear claw back into the black reuters reuters short seller wall street be dwindle band of ultra cynic be see green again</td>\n",
              "      <td>3</td>\n",
              "      <td>wall st bear claw back black reuters reuters short seller wall street dwindle band ultra cynic see green</td>\n",
              "    </tr>\n",
              "    <tr>\n",
              "      <th>1</th>\n",
              "      <td>carlyle looks toward commercial aerospace reuters reuters private investment firm carlyle group which has a reputation for making well timed and occasionally controversial plays in the defense industry has quietly placed its bets on another part of the market</td>\n",
              "      <td>carlyle look toward commercial aerospace reuters reuters private investment firm carlyle group which have a reputation for make well time and occasionally controversial play in the defense industry have quietly place its bet on another part of the market</td>\n",
              "      <td>3</td>\n",
              "      <td>carlyle look toward commercial aerospace reuters reuters private investment firm carlyle group reputation make well time occasionally controversial play defense industry quietly place bet another part market</td>\n",
              "    </tr>\n",
              "    <tr>\n",
              "      <th>2</th>\n",
              "      <td>oil and economy cloud stocks outlook reuters reuters soaring crude prices plus worries about the economy and the outlook for earnings are expected to hang over the stock market next week during the depth of the summer doldrums</td>\n",
              "      <td>oil and economy cloud stock outlook reuters reuters soar crude price plus worry about the economy and the outlook for earnings be expect to hang over the stock market next week during the depth of the summer doldrums</td>\n",
              "      <td>3</td>\n",
              "      <td>oil economy cloud stock outlook reuters reuters soar crude price plus worry economy outlook earnings expect hang stock market next week depth summer doldrums</td>\n",
              "    </tr>\n",
              "    <tr>\n",
              "      <th>3</th>\n",
              "      <td>iraq halts oil exports from main southern pipeline reuters reuters authorities have halted oil export flows from the main pipeline in southern iraq after intelligence showed a rebel militia could strike infrastructure an oil official said on saturday</td>\n",
              "      <td>iraq halt oil export from main southern pipeline reuters reuters authority have halt oil export flow from the main pipeline in southern iraq after intelligence show a rebel militia could strike infrastructure an oil official say on saturday</td>\n",
              "      <td>3</td>\n",
              "      <td>iraq halt oil export main southern pipeline reuters reuters authority halt oil export flow main pipeline southern iraq intelligence show rebel militia could strike infrastructure oil official say saturday</td>\n",
              "    </tr>\n",
              "    <tr>\n",
              "      <th>4</th>\n",
              "      <td>oil prices soar to all time record posing new menace to us economy afp afp tearaway world oil prices toppling records and straining wallets present a new economic menace barely three months before the us presidential elections</td>\n",
              "      <td>oil price soar to all time record pose new menace to us economy afp afp tearaway world oil price toppling record and strain wallet present a new economic menace barely three month before the us presidential election</td>\n",
              "      <td>3</td>\n",
              "      <td>oil price soar time record pose new menace us economy afp afp tearaway world oil price toppling record strain wallet present new economic menace barely three month us presidential election</td>\n",
              "    </tr>\n",
              "  </tbody>\n",
              "</table>\n",
              "</div>"
            ],
            "text/plain": [
              "                                                                                                                                                                                                                                                             text_clean  \\\n",
              "0  wall st bears claw back into the black reuters reuters short sellers wall street is dwindling band of ultra cynics are seeing green again                                                                                                                              \n",
              "1  carlyle looks toward commercial aerospace reuters reuters private investment firm carlyle group which has a reputation for making well timed and occasionally controversial plays in the defense industry has quietly placed its bets on another part of the market    \n",
              "2  oil and economy cloud stocks outlook reuters reuters soaring crude prices plus worries about the economy and the outlook for earnings are expected to hang over the stock market next week during the depth of the summer doldrums                                     \n",
              "3  iraq halts oil exports from main southern pipeline reuters reuters authorities have halted oil export flows from the main pipeline in southern iraq after intelligence showed a rebel militia could strike infrastructure an oil official said on saturday             \n",
              "4  oil prices soar to all time record posing new menace to us economy afp afp tearaway world oil prices toppling records and straining wallets present a new economic menace barely three months before the us presidential elections                                     \n",
              "\n",
              "                                                                                                                                                                                                                                                       text_lemma  \\\n",
              "0  wall st bear claw back into the black reuters reuters short seller wall street be dwindle band of ultra cynic be see green again                                                                                                                                 \n",
              "1  carlyle look toward commercial aerospace reuters reuters private investment firm carlyle group which have a reputation for make well time and occasionally controversial play in the defense industry have quietly place its bet on another part of the market   \n",
              "2  oil and economy cloud stock outlook reuters reuters soar crude price plus worry about the economy and the outlook for earnings be expect to hang over the stock market next week during the depth of the summer doldrums                                         \n",
              "3  iraq halt oil export from main southern pipeline reuters reuters authority have halt oil export flow from the main pipeline in southern iraq after intelligence show a rebel militia could strike infrastructure an oil official say on saturday                 \n",
              "4  oil price soar to all time record pose new menace to us economy afp afp tearaway world oil price toppling record and strain wallet present a new economic menace barely three month before the us presidential election                                          \n",
              "\n",
              "   category  \\\n",
              "0  3          \n",
              "1  3          \n",
              "2  3          \n",
              "3  3          \n",
              "4  3          \n",
              "\n",
              "                                                                                                                                                                                                   text_preprocess  \n",
              "0  wall st bear claw back black reuters reuters short seller wall street dwindle band ultra cynic see green                                                                                                         \n",
              "1  carlyle look toward commercial aerospace reuters reuters private investment firm carlyle group reputation make well time occasionally controversial play defense industry quietly place bet another part market  \n",
              "2  oil economy cloud stock outlook reuters reuters soar crude price plus worry economy outlook earnings expect hang stock market next week depth summer doldrums                                                    \n",
              "3  iraq halt oil export main southern pipeline reuters reuters authority halt oil export flow main pipeline southern iraq intelligence show rebel militia could strike infrastructure oil official say saturday     \n",
              "4  oil price soar time record pose new menace us economy afp afp tearaway world oil price toppling record strain wallet present new economic menace barely three month us presidential election                     "
            ]
          },
          "metadata": {
            "tags": []
          },
          "execution_count": 24
        }
      ]
    },
    {
      "cell_type": "markdown",
      "metadata": {
        "id": "pH6Cwgbasrxc"
      },
      "source": [
        "## Data Process"
      ]
    },
    {
      "cell_type": "code",
      "metadata": {
        "id": "nwOO3IE-miAW"
      },
      "source": [
        "#convert dataframe to values\n",
        "data_process = data['text_preprocess'].values\n",
        "label = data['category'].apply(lambda x:x-1).values"
      ],
      "execution_count": null,
      "outputs": []
    },
    {
      "cell_type": "code",
      "metadata": {
        "colab": {
          "base_uri": "https://localhost:8080/"
        },
        "id": "CAPC8k2MtJ-m",
        "outputId": "2c1d7c9e-0aef-41ab-c1dd-fb0d7f10bc13"
      },
      "source": [
        "# view data array\n",
        "data_process[0:10]"
      ],
      "execution_count": null,
      "outputs": [
        {
          "output_type": "execute_result",
          "data": {
            "text/plain": [
              "array(['wall st bear claw back black reuters reuters short seller wall street dwindle band ultra cynic see green',\n",
              "       'carlyle look toward commercial aerospace reuters reuters private investment firm carlyle group reputation make well time occasionally controversial play defense industry quietly place bet another part market',\n",
              "       'oil economy cloud stock outlook reuters reuters soar crude price plus worry economy outlook earnings expect hang stock market next week depth summer doldrums',\n",
              "       'iraq halt oil export main southern pipeline reuters reuters authority halt oil export flow main pipeline southern iraq intelligence show rebel militia could strike infrastructure oil official say saturday',\n",
              "       'oil price soar time record pose new menace us economy afp afp tearaway world oil price toppling record strain wallet present new economic menace barely three month us presidential election',\n",
              "       'stock end near year low reuters reuters stock end slightly high friday stay near low year oil price surge past barrel offset positive outlook computer maker dell inc dell',\n",
              "       'money fund fell late week ap ap asset nation retail money market mutual fund fell billion late week trillion investment company institute say thursday',\n",
              "       'feed minute show dissent inflation usatoday com usatoday com retail sale bounce back bit july new claim jobless benefit fell last week government say thursday indicate economy improve midsummer slump',\n",
              "       'safety net forbes com forbes com earn ph sociology danny bazil riley start work general manager commercial real estate firm annual base salary soon financial planner stop desk drop brochure insurance benefit available employer buy insurance furthest thing mind say riley',\n",
              "       'wall st bear claw back black new york reuters short seller wall street dwindle band ultra cynic see green'],\n",
              "      dtype=object)"
            ]
          },
          "metadata": {
            "tags": []
          },
          "execution_count": 44
        }
      ]
    },
    {
      "cell_type": "code",
      "metadata": {
        "colab": {
          "base_uri": "https://localhost:8080/"
        },
        "id": "D5H8RDmNtONd",
        "outputId": "67083d2e-4c93-47e1-bd23-b0c9d1b8ac50"
      },
      "source": [
        "# view label array\n",
        "label"
      ],
      "execution_count": null,
      "outputs": [
        {
          "output_type": "execute_result",
          "data": {
            "text/plain": [
              "array([2, 2, 2, ..., 1, 2, 2])"
            ]
          },
          "metadata": {
            "tags": []
          },
          "execution_count": 45
        }
      ]
    },
    {
      "cell_type": "markdown",
      "metadata": {
        "id": "lyc3dy75tVLa"
      },
      "source": [
        "### Data Splitting"
      ]
    },
    {
      "cell_type": "code",
      "metadata": {
        "id": "4Z_j68Y8tR7M",
        "colab": {
          "base_uri": "https://localhost:8080/"
        },
        "outputId": "1b92ecfd-3fba-4b31-bf75-f77c9929c273"
      },
      "source": [
        "# split data into training and validation\n",
        "\n",
        "from sklearn.model_selection import train_test_split\n",
        "\n",
        "text_train, text_test, label_train, label_test = train_test_split(data_process, label, test_size=0.2, shuffle=True,  stratify=label, random_state=42)\n",
        "\n",
        "text_train.shape, text_test.shape, label_train.shape, label_test.shape"
      ],
      "execution_count": null,
      "outputs": [
        {
          "output_type": "execute_result",
          "data": {
            "text/plain": [
              "((102080,), (25520,), (102080,), (25520,))"
            ]
          },
          "metadata": {
            "tags": []
          },
          "execution_count": 46
        }
      ]
    },
    {
      "cell_type": "markdown",
      "metadata": {
        "id": "p4iAVI60tndf"
      },
      "source": [
        "## Model"
      ]
    },
    {
      "cell_type": "code",
      "metadata": {
        "id": "d2fh4HJ_uC0d"
      },
      "source": [
        "# tokenizer\n",
        "from tensorflow.keras.preprocessing.text import Tokenizer\n",
        "from tensorflow.keras.preprocessing.sequence import pad_sequences\n",
        " \n",
        "tokenizer = Tokenizer(num_words=10000, oov_token='x')\n",
        "tokenizer.fit_on_texts(text_train) \n",
        "tokenizer.fit_on_texts(text_test)\n",
        "\n",
        "word_index = tokenizer.word_index\n",
        "total_words = len(word_index)+1\n",
        " \n",
        "sekuens_train = tokenizer.texts_to_sequences(text_train)\n",
        "sekuens_test = tokenizer.texts_to_sequences(text_test)\n",
        " \n",
        "padded_train = pad_sequences(sekuens_train, maxlen=100) \n",
        "padded_test = pad_sequences(sekuens_test, maxlen=100)"
      ],
      "execution_count": null,
      "outputs": []
    },
    {
      "cell_type": "code",
      "metadata": {
        "colab": {
          "base_uri": "https://localhost:8080/"
        },
        "id": "kJKSog4Tk0CM",
        "outputId": "4c336d72-4cbb-4f6e-8724-9d91b3778b3f"
      },
      "source": [
        "print(f'train datashape : {padded_train.shape}')\n",
        "print(f'test datashape : {padded_test.shape}')\n",
        "total_words"
      ],
      "execution_count": null,
      "outputs": [
        {
          "output_type": "stream",
          "text": [
            "train datashape : (102080, 100)\n",
            "test datashape : (25520, 100)\n"
          ],
          "name": "stdout"
        },
        {
          "output_type": "execute_result",
          "data": {
            "text/plain": [
              "54643"
            ]
          },
          "metadata": {
            "tags": []
          },
          "execution_count": 48
        }
      ]
    },
    {
      "cell_type": "code",
      "metadata": {
        "id": "AFhiiRASt5V_"
      },
      "source": [
        "# import packages\n",
        "import tensorflow as tf\n",
        "from tensorflow import keras\n",
        "from tensorflow.keras import layers,Sequential\n",
        "from sklearn.model_selection import train_test_split\n",
        "from tensorflow.keras.preprocessing.text import Tokenizer\n",
        "from tensorflow.keras.preprocessing.sequence import pad_sequences\n",
        "from tensorflow.keras.callbacks import EarlyStopping,ModelCheckpoint"
      ],
      "execution_count": null,
      "outputs": []
    },
    {
      "cell_type": "code",
      "metadata": {
        "colab": {
          "base_uri": "https://localhost:8080/"
        },
        "id": "lJ222n9HmW_z",
        "outputId": "c5e28f63-daa6-4a2e-ec00-84ff7950684b"
      },
      "source": [
        "# model\n",
        "import tensorflow as tf\n",
        "\n",
        "model = tf.keras.Sequential([\n",
        "    tf.keras.layers.Embedding(input_dim=total_words,output_dim=128,input_length=100),\n",
        "    tf.keras.layers.LSTM(128),\n",
        "    tf.keras.layers.Dense(128, activation='relu'),\n",
        "    tf.keras.layers.Dropout(0.25),\n",
        "    tf.keras.layers.Dense(64, activation='relu'),\n",
        "    tf.keras.layers.Dropout(0.25),\n",
        "    tf.keras.layers.Dense(4, activation='softmax')\n",
        "])\n",
        "model.compile(optimizer='adam', metrics=['accuracy'], loss='sparse_categorical_crossentropy')\n",
        "model.summary()"
      ],
      "execution_count": null,
      "outputs": [
        {
          "output_type": "stream",
          "text": [
            "Model: \"sequential_3\"\n",
            "_________________________________________________________________\n",
            "Layer (type)                 Output Shape              Param #   \n",
            "=================================================================\n",
            "embedding_3 (Embedding)      (None, 100, 128)          6994304   \n",
            "_________________________________________________________________\n",
            "lstm_3 (LSTM)                (None, 128)               131584    \n",
            "_________________________________________________________________\n",
            "dense_9 (Dense)              (None, 128)               16512     \n",
            "_________________________________________________________________\n",
            "dropout_6 (Dropout)          (None, 128)               0         \n",
            "_________________________________________________________________\n",
            "dense_10 (Dense)             (None, 64)                8256      \n",
            "_________________________________________________________________\n",
            "dropout_7 (Dropout)          (None, 64)                0         \n",
            "_________________________________________________________________\n",
            "dense_11 (Dense)             (None, 4)                 260       \n",
            "=================================================================\n",
            "Total params: 7,150,916\n",
            "Trainable params: 7,150,916\n",
            "Non-trainable params: 0\n",
            "_________________________________________________________________\n"
          ],
          "name": "stdout"
        }
      ]
    },
    {
      "cell_type": "code",
      "metadata": {
        "id": "mhsPuq5wmblp"
      },
      "source": [
        "# callback\n",
        "\n",
        "class myCallback(tf.keras.callbacks.Callback):\n",
        "  def on_epoch_end(self, epoch, logs={}):\n",
        "    if(logs.get('accuracy')>0.91 and logs.get('val_accuracy')>0.91):\n",
        "      self.model.stop_training = True\n",
        "      print(\"\\nThe accuracy of the training set and the validation set has reached > 91%!\")\n",
        "callbacks = myCallback()"
      ],
      "execution_count": null,
      "outputs": []
    },
    {
      "cell_type": "code",
      "metadata": {
        "colab": {
          "base_uri": "https://localhost:8080/"
        },
        "id": "A4q6qXI4mi2C",
        "outputId": "dbd3db3d-e897-46f8-fb37-6f6c9818529f"
      },
      "source": [
        "import time\n",
        "time_array = []\n",
        "\n",
        "start_time = time.time()\n",
        "\n",
        "# model fit\n",
        "history = model.fit(padded_train, label_train, \n",
        "                    batch_size=256, \n",
        "                    epochs=30, \n",
        "                    validation_data=(padded_test, label_test),\n",
        "                    verbose=2, callbacks=[callbacks],\n",
        "                    validation_steps=5, steps_per_epoch=25)\n",
        "\n",
        "print(\"--- %.2f menit ---\" % ((time.time() - start_time)/60))\n",
        "time_array.append(time.time() - start_time)"
      ],
      "execution_count": null,
      "outputs": [
        {
          "output_type": "stream",
          "text": [
            "Epoch 1/30\n",
            "25/25 - 20s - loss: 1.3371 - accuracy: 0.4103 - val_loss: 1.1696 - val_accuracy: 0.6594\n",
            "Epoch 2/30\n",
            "25/25 - 18s - loss: 0.7246 - accuracy: 0.7727 - val_loss: 0.4737 - val_accuracy: 0.8602\n",
            "Epoch 3/30\n",
            "25/25 - 18s - loss: 0.4100 - accuracy: 0.8734 - val_loss: 0.3904 - val_accuracy: 0.8758\n",
            "Epoch 4/30\n",
            "25/25 - 18s - loss: 0.3640 - accuracy: 0.8867 - val_loss: 0.3713 - val_accuracy: 0.8852\n",
            "Epoch 5/30\n",
            "25/25 - 18s - loss: 0.3599 - accuracy: 0.8938 - val_loss: 0.3558 - val_accuracy: 0.8898\n",
            "Epoch 6/30\n",
            "25/25 - 18s - loss: 0.3295 - accuracy: 0.8950 - val_loss: 0.3232 - val_accuracy: 0.8984\n",
            "Epoch 7/30\n",
            "25/25 - 18s - loss: 0.3084 - accuracy: 0.9031 - val_loss: 0.3206 - val_accuracy: 0.8945\n",
            "Epoch 8/30\n",
            "25/25 - 18s - loss: 0.3103 - accuracy: 0.9023 - val_loss: 0.3024 - val_accuracy: 0.8984\n",
            "Epoch 9/30\n",
            "25/25 - 18s - loss: 0.2935 - accuracy: 0.9056 - val_loss: 0.3053 - val_accuracy: 0.9000\n",
            "Epoch 10/30\n",
            "25/25 - 18s - loss: 0.2957 - accuracy: 0.9025 - val_loss: 0.3036 - val_accuracy: 0.9000\n",
            "Epoch 11/30\n",
            "25/25 - 18s - loss: 0.2886 - accuracy: 0.9078 - val_loss: 0.3015 - val_accuracy: 0.9008\n",
            "Epoch 12/30\n",
            "25/25 - 18s - loss: 0.3036 - accuracy: 0.9028 - val_loss: 0.3039 - val_accuracy: 0.9062\n",
            "Epoch 13/30\n",
            "25/25 - 18s - loss: 0.2831 - accuracy: 0.9084 - val_loss: 0.2909 - val_accuracy: 0.9078\n",
            "Epoch 14/30\n",
            "25/25 - 18s - loss: 0.2836 - accuracy: 0.9069 - val_loss: 0.2871 - val_accuracy: 0.9102\n",
            "Epoch 15/30\n",
            "25/25 - 18s - loss: 0.2792 - accuracy: 0.9087 - val_loss: 0.2917 - val_accuracy: 0.9078\n",
            "Epoch 16/30\n",
            "25/25 - 17s - loss: 0.2657 - accuracy: 0.9140 - val_loss: 0.3092 - val_accuracy: 0.9000\n",
            "Epoch 17/30\n",
            "25/25 - 18s - loss: 0.2207 - accuracy: 0.9309 - val_loss: 0.2778 - val_accuracy: 0.9102\n",
            "\n",
            "The accuracy of the training set and the validation set has reached > 91%!\n",
            "--- 5.05 menit ---\n"
          ],
          "name": "stdout"
        }
      ]
    },
    {
      "cell_type": "markdown",
      "metadata": {
        "id": "cLFMmCpHs_nl"
      },
      "source": [
        "## Plot Visualization Accuracy and Loss Each Epoch\n"
      ]
    },
    {
      "cell_type": "code",
      "metadata": {
        "id": "BImDegL1qnsu"
      },
      "source": [
        "# define function plot visualization training and validation process\n",
        "def plot_history(history):\n",
        "    acc = history.history['accuracy']\n",
        "    val_acc = history.history['val_accuracy']\n",
        "    loss = history.history['loss']\n",
        "    val_loss = history.history['val_loss']\n",
        "    x = range(1, len(acc) + 1)\n",
        "\n",
        "    print(\"Training Accuracy: %.2f\" % acc[-1])\n",
        "    print(\"Training Loss: %.2f\" % loss[-1])\n",
        "    print(\"Validation Accuracy: %.2f\" % val_acc[-1])\n",
        "    print(\"Validation Loss: %.2f\" % val_loss[-1] + '\\n\\n')\n",
        "\n",
        "    # make a visualization of the results of the neural network between loss, validation loss and accuracy, validation accuracy\n",
        "    plt.figure(figsize=(15, 5))\n",
        "\n",
        "    # create visualizations for accuracy values in the training and validation process\n",
        "    plt.subplot(1, 2, 1)\n",
        "    plt.plot(acc, 'b', label='Train acc')\n",
        "    plt.plot(val_acc, 'r', label='Validation acc')\n",
        "    plt.title('Train and validation accuracy Visualization')\n",
        "    plt.xlabel(\"Jumlah Epochs\")\n",
        "    plt.legend()\n",
        "\n",
        "    # create visualizations for loss values in the training and validation process\n",
        "    plt.subplot(1, 2, 2)\n",
        "    plt.plot(loss, 'b', label='Train loss')\n",
        "    plt.plot(val_loss, 'r', label='Validation loss')\n",
        "    plt.title('Train and validation loss Visualization')\n",
        "    plt.legend()"
      ],
      "execution_count": null,
      "outputs": []
    },
    {
      "cell_type": "code",
      "metadata": {
        "colab": {
          "base_uri": "https://localhost:8080/",
          "height": 456
        },
        "id": "wt58fn97tIOv",
        "outputId": "527caa71-a8b1-4044-da27-c61b2c64060d"
      },
      "source": [
        "plot_history(history)"
      ],
      "execution_count": null,
      "outputs": [
        {
          "output_type": "stream",
          "text": [
            "Training Accuracy: 0.93\n",
            "Training Loss: 0.22\n",
            "Validation Accuracy: 0.91\n",
            "Validation Loss: 0.28\n",
            "\n",
            "\n"
          ],
          "name": "stdout"
        },
        {
          "output_type": "display_data",
          "data": {
            "image/png": "[encoded data removed]",
            "text/plain": [
              "<Figure size 1080x360 with 2 Axes>"
            ]
          },
          "metadata": {
            "tags": [],
            "needs_background": "light"
          }
        }
      ]
    },
    {
      "cell_type": "code",
      "metadata": {
        "id": "kb06C34qhuX-"
      },
      "source": [
        ""
      ],
      "execution_count": null,
      "outputs": []
    }
  ]
}